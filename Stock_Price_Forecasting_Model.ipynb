{
  "cells": [
    {
      "cell_type": "markdown",
      "source": [
        "# Stock Price Forecasting Model\n",
        "\n",
        "In this notebook, we will build a forecasting model for NTT's stock price data. The steps will include exploratory data analysis (EDA), data preprocessing, model training, evaluation, and model improvement. The goal is to forecast stock prices and evaluate the model's accuracy.\n",
        "\n"
      ],
      "metadata": {
        "id": "2mWGAZde6Ihq"
      }
    },
    {
      "cell_type": "markdown",
      "source": [
        "## 1. Data Understanding and EDA\n",
        "\n",
        "- Loading the dataset and checking its basic statistics.\n",
        "- Visualizing the trends, seasonality, and detect outliers."
      ],
      "metadata": {
        "id": "57mkicwE6SVj"
      }
    },
    {
      "cell_type": "code",
      "execution_count": 24,
      "metadata": {
        "id": "4oVRu3_1qYjT",
        "colab": {
          "base_uri": "https://localhost:8080/",
          "height": 206
        },
        "outputId": "ee6d2b07-1a68-49bc-fbe3-fae0370d5f3f"
      },
      "outputs": [
        {
          "output_type": "execute_result",
          "data": {
            "text/plain": [
              "         Date  Close Price  Open Price  High Price  Low Price   Volume  \\\n",
              "0  01-08-2024        156.3       159.3       159.4      156.1   79.15M   \n",
              "1  31-07-2024        160.4       158.2       160.7      158.1  173.91M   \n",
              "2  30-07-2024        158.7       158.8       159.2      158.0  138.14M   \n",
              "3  29-07-2024        159.7       158.7       160.2      158.4  126.28M   \n",
              "4  26-07-2024        157.9       159.3       159.6      157.9  155.08M   \n",
              "\n",
              "  Change %  \n",
              "0   -2.56%  \n",
              "1    1.07%  \n",
              "2   -0.63%  \n",
              "3    1.14%  \n",
              "4   -0.13%  "
            ],
            "text/html": [
              "\n",
              "  <div id=\"df-37030271-0608-4afc-b6eb-7ebd60251546\" class=\"colab-df-container\">\n",
              "    <div>\n",
              "<style scoped>\n",
              "    .dataframe tbody tr th:only-of-type {\n",
              "        vertical-align: middle;\n",
              "    }\n",
              "\n",
              "    .dataframe tbody tr th {\n",
              "        vertical-align: top;\n",
              "    }\n",
              "\n",
              "    .dataframe thead th {\n",
              "        text-align: right;\n",
              "    }\n",
              "</style>\n",
              "<table border=\"1\" class=\"dataframe\">\n",
              "  <thead>\n",
              "    <tr style=\"text-align: right;\">\n",
              "      <th></th>\n",
              "      <th>Date</th>\n",
              "      <th>Close Price</th>\n",
              "      <th>Open Price</th>\n",
              "      <th>High Price</th>\n",
              "      <th>Low Price</th>\n",
              "      <th>Volume</th>\n",
              "      <th>Change %</th>\n",
              "    </tr>\n",
              "  </thead>\n",
              "  <tbody>\n",
              "    <tr>\n",
              "      <th>0</th>\n",
              "      <td>01-08-2024</td>\n",
              "      <td>156.3</td>\n",
              "      <td>159.3</td>\n",
              "      <td>159.4</td>\n",
              "      <td>156.1</td>\n",
              "      <td>79.15M</td>\n",
              "      <td>-2.56%</td>\n",
              "    </tr>\n",
              "    <tr>\n",
              "      <th>1</th>\n",
              "      <td>31-07-2024</td>\n",
              "      <td>160.4</td>\n",
              "      <td>158.2</td>\n",
              "      <td>160.7</td>\n",
              "      <td>158.1</td>\n",
              "      <td>173.91M</td>\n",
              "      <td>1.07%</td>\n",
              "    </tr>\n",
              "    <tr>\n",
              "      <th>2</th>\n",
              "      <td>30-07-2024</td>\n",
              "      <td>158.7</td>\n",
              "      <td>158.8</td>\n",
              "      <td>159.2</td>\n",
              "      <td>158.0</td>\n",
              "      <td>138.14M</td>\n",
              "      <td>-0.63%</td>\n",
              "    </tr>\n",
              "    <tr>\n",
              "      <th>3</th>\n",
              "      <td>29-07-2024</td>\n",
              "      <td>159.7</td>\n",
              "      <td>158.7</td>\n",
              "      <td>160.2</td>\n",
              "      <td>158.4</td>\n",
              "      <td>126.28M</td>\n",
              "      <td>1.14%</td>\n",
              "    </tr>\n",
              "    <tr>\n",
              "      <th>4</th>\n",
              "      <td>26-07-2024</td>\n",
              "      <td>157.9</td>\n",
              "      <td>159.3</td>\n",
              "      <td>159.6</td>\n",
              "      <td>157.9</td>\n",
              "      <td>155.08M</td>\n",
              "      <td>-0.13%</td>\n",
              "    </tr>\n",
              "  </tbody>\n",
              "</table>\n",
              "</div>\n",
              "    <div class=\"colab-df-buttons\">\n",
              "\n",
              "  <div class=\"colab-df-container\">\n",
              "    <button class=\"colab-df-convert\" onclick=\"convertToInteractive('df-37030271-0608-4afc-b6eb-7ebd60251546')\"\n",
              "            title=\"Convert this dataframe to an interactive table.\"\n",
              "            style=\"display:none;\">\n",
              "\n",
              "  <svg xmlns=\"http://www.w3.org/2000/svg\" height=\"24px\" viewBox=\"0 -960 960 960\">\n",
              "    <path d=\"M120-120v-720h720v720H120Zm60-500h600v-160H180v160Zm220 220h160v-160H400v160Zm0 220h160v-160H400v160ZM180-400h160v-160H180v160Zm440 0h160v-160H620v160ZM180-180h160v-160H180v160Zm440 0h160v-160H620v160Z\"/>\n",
              "  </svg>\n",
              "    </button>\n",
              "\n",
              "  <style>\n",
              "    .colab-df-container {\n",
              "      display:flex;\n",
              "      gap: 12px;\n",
              "    }\n",
              "\n",
              "    .colab-df-convert {\n",
              "      background-color: #E8F0FE;\n",
              "      border: none;\n",
              "      border-radius: 50%;\n",
              "      cursor: pointer;\n",
              "      display: none;\n",
              "      fill: #1967D2;\n",
              "      height: 32px;\n",
              "      padding: 0 0 0 0;\n",
              "      width: 32px;\n",
              "    }\n",
              "\n",
              "    .colab-df-convert:hover {\n",
              "      background-color: #E2EBFA;\n",
              "      box-shadow: 0px 1px 2px rgba(60, 64, 67, 0.3), 0px 1px 3px 1px rgba(60, 64, 67, 0.15);\n",
              "      fill: #174EA6;\n",
              "    }\n",
              "\n",
              "    .colab-df-buttons div {\n",
              "      margin-bottom: 4px;\n",
              "    }\n",
              "\n",
              "    [theme=dark] .colab-df-convert {\n",
              "      background-color: #3B4455;\n",
              "      fill: #D2E3FC;\n",
              "    }\n",
              "\n",
              "    [theme=dark] .colab-df-convert:hover {\n",
              "      background-color: #434B5C;\n",
              "      box-shadow: 0px 1px 3px 1px rgba(0, 0, 0, 0.15);\n",
              "      filter: drop-shadow(0px 1px 2px rgba(0, 0, 0, 0.3));\n",
              "      fill: #FFFFFF;\n",
              "    }\n",
              "  </style>\n",
              "\n",
              "    <script>\n",
              "      const buttonEl =\n",
              "        document.querySelector('#df-37030271-0608-4afc-b6eb-7ebd60251546 button.colab-df-convert');\n",
              "      buttonEl.style.display =\n",
              "        google.colab.kernel.accessAllowed ? 'block' : 'none';\n",
              "\n",
              "      async function convertToInteractive(key) {\n",
              "        const element = document.querySelector('#df-37030271-0608-4afc-b6eb-7ebd60251546');\n",
              "        const dataTable =\n",
              "          await google.colab.kernel.invokeFunction('convertToInteractive',\n",
              "                                                    [key], {});\n",
              "        if (!dataTable) return;\n",
              "\n",
              "        const docLinkHtml = 'Like what you see? Visit the ' +\n",
              "          '<a target=\"_blank\" href=https://colab.research.google.com/notebooks/data_table.ipynb>data table notebook</a>'\n",
              "          + ' to learn more about interactive tables.';\n",
              "        element.innerHTML = '';\n",
              "        dataTable['output_type'] = 'display_data';\n",
              "        await google.colab.output.renderOutput(dataTable, element);\n",
              "        const docLink = document.createElement('div');\n",
              "        docLink.innerHTML = docLinkHtml;\n",
              "        element.appendChild(docLink);\n",
              "      }\n",
              "    </script>\n",
              "  </div>\n",
              "\n",
              "\n",
              "<div id=\"df-a06ebc31-4d9b-42c2-99b8-0d96c5cecc78\">\n",
              "  <button class=\"colab-df-quickchart\" onclick=\"quickchart('df-a06ebc31-4d9b-42c2-99b8-0d96c5cecc78')\"\n",
              "            title=\"Suggest charts\"\n",
              "            style=\"display:none;\">\n",
              "\n",
              "<svg xmlns=\"http://www.w3.org/2000/svg\" height=\"24px\"viewBox=\"0 0 24 24\"\n",
              "     width=\"24px\">\n",
              "    <g>\n",
              "        <path d=\"M19 3H5c-1.1 0-2 .9-2 2v14c0 1.1.9 2 2 2h14c1.1 0 2-.9 2-2V5c0-1.1-.9-2-2-2zM9 17H7v-7h2v7zm4 0h-2V7h2v10zm4 0h-2v-4h2v4z\"/>\n",
              "    </g>\n",
              "</svg>\n",
              "  </button>\n",
              "\n",
              "<style>\n",
              "  .colab-df-quickchart {\n",
              "      --bg-color: #E8F0FE;\n",
              "      --fill-color: #1967D2;\n",
              "      --hover-bg-color: #E2EBFA;\n",
              "      --hover-fill-color: #174EA6;\n",
              "      --disabled-fill-color: #AAA;\n",
              "      --disabled-bg-color: #DDD;\n",
              "  }\n",
              "\n",
              "  [theme=dark] .colab-df-quickchart {\n",
              "      --bg-color: #3B4455;\n",
              "      --fill-color: #D2E3FC;\n",
              "      --hover-bg-color: #434B5C;\n",
              "      --hover-fill-color: #FFFFFF;\n",
              "      --disabled-bg-color: #3B4455;\n",
              "      --disabled-fill-color: #666;\n",
              "  }\n",
              "\n",
              "  .colab-df-quickchart {\n",
              "    background-color: var(--bg-color);\n",
              "    border: none;\n",
              "    border-radius: 50%;\n",
              "    cursor: pointer;\n",
              "    display: none;\n",
              "    fill: var(--fill-color);\n",
              "    height: 32px;\n",
              "    padding: 0;\n",
              "    width: 32px;\n",
              "  }\n",
              "\n",
              "  .colab-df-quickchart:hover {\n",
              "    background-color: var(--hover-bg-color);\n",
              "    box-shadow: 0 1px 2px rgba(60, 64, 67, 0.3), 0 1px 3px 1px rgba(60, 64, 67, 0.15);\n",
              "    fill: var(--button-hover-fill-color);\n",
              "  }\n",
              "\n",
              "  .colab-df-quickchart-complete:disabled,\n",
              "  .colab-df-quickchart-complete:disabled:hover {\n",
              "    background-color: var(--disabled-bg-color);\n",
              "    fill: var(--disabled-fill-color);\n",
              "    box-shadow: none;\n",
              "  }\n",
              "\n",
              "  .colab-df-spinner {\n",
              "    border: 2px solid var(--fill-color);\n",
              "    border-color: transparent;\n",
              "    border-bottom-color: var(--fill-color);\n",
              "    animation:\n",
              "      spin 1s steps(1) infinite;\n",
              "  }\n",
              "\n",
              "  @keyframes spin {\n",
              "    0% {\n",
              "      border-color: transparent;\n",
              "      border-bottom-color: var(--fill-color);\n",
              "      border-left-color: var(--fill-color);\n",
              "    }\n",
              "    20% {\n",
              "      border-color: transparent;\n",
              "      border-left-color: var(--fill-color);\n",
              "      border-top-color: var(--fill-color);\n",
              "    }\n",
              "    30% {\n",
              "      border-color: transparent;\n",
              "      border-left-color: var(--fill-color);\n",
              "      border-top-color: var(--fill-color);\n",
              "      border-right-color: var(--fill-color);\n",
              "    }\n",
              "    40% {\n",
              "      border-color: transparent;\n",
              "      border-right-color: var(--fill-color);\n",
              "      border-top-color: var(--fill-color);\n",
              "    }\n",
              "    60% {\n",
              "      border-color: transparent;\n",
              "      border-right-color: var(--fill-color);\n",
              "    }\n",
              "    80% {\n",
              "      border-color: transparent;\n",
              "      border-right-color: var(--fill-color);\n",
              "      border-bottom-color: var(--fill-color);\n",
              "    }\n",
              "    90% {\n",
              "      border-color: transparent;\n",
              "      border-bottom-color: var(--fill-color);\n",
              "    }\n",
              "  }\n",
              "</style>\n",
              "\n",
              "  <script>\n",
              "    async function quickchart(key) {\n",
              "      const quickchartButtonEl =\n",
              "        document.querySelector('#' + key + ' button');\n",
              "      quickchartButtonEl.disabled = true;  // To prevent multiple clicks.\n",
              "      quickchartButtonEl.classList.add('colab-df-spinner');\n",
              "      try {\n",
              "        const charts = await google.colab.kernel.invokeFunction(\n",
              "            'suggestCharts', [key], {});\n",
              "      } catch (error) {\n",
              "        console.error('Error during call to suggestCharts:', error);\n",
              "      }\n",
              "      quickchartButtonEl.classList.remove('colab-df-spinner');\n",
              "      quickchartButtonEl.classList.add('colab-df-quickchart-complete');\n",
              "    }\n",
              "    (() => {\n",
              "      let quickchartButtonEl =\n",
              "        document.querySelector('#df-a06ebc31-4d9b-42c2-99b8-0d96c5cecc78 button');\n",
              "      quickchartButtonEl.style.display =\n",
              "        google.colab.kernel.accessAllowed ? 'block' : 'none';\n",
              "    })();\n",
              "  </script>\n",
              "</div>\n",
              "\n",
              "    </div>\n",
              "  </div>\n"
            ],
            "application/vnd.google.colaboratory.intrinsic+json": {
              "type": "dataframe",
              "variable_name": "df",
              "summary": "{\n  \"name\": \"df\",\n  \"rows\": 9202,\n  \"fields\": [\n    {\n      \"column\": \"Date\",\n      \"properties\": {\n        \"dtype\": \"string\",\n        \"num_unique_values\": 9202,\n        \"samples\": [\n          \"15-08-1997\",\n          \"08-02-2007\",\n          \"24-09-2014\"\n        ],\n        \"semantic_type\": \"\",\n        \"description\": \"\"\n      }\n    },\n    {\n      \"column\": \"Close Price\",\n      \"properties\": {\n        \"dtype\": \"number\",\n        \"std\": 50.4522282191773,\n        \"min\": 33.0,\n        \"max\": 305.9,\n        \"num_unique_values\": 1362,\n        \"samples\": [\n          169.8,\n          43.9,\n          264.7\n        ],\n        \"semantic_type\": \"\",\n        \"description\": \"\"\n      }\n    },\n    {\n      \"column\": \"Open Price\",\n      \"properties\": {\n        \"dtype\": \"number\",\n        \"std\": 50.59821458209789,\n        \"min\": 33.0,\n        \"max\": 309.8,\n        \"num_unique_values\": 1357,\n        \"samples\": [\n          172.4,\n          57.4,\n          267.6\n        ],\n        \"semantic_type\": \"\",\n        \"description\": \"\"\n      }\n    },\n    {\n      \"column\": \"High Price\",\n      \"properties\": {\n        \"dtype\": \"number\",\n        \"std\": 51.04983656349606,\n        \"min\": 33.2,\n        \"max\": 311.8,\n        \"num_unique_values\": 1379,\n        \"samples\": [\n          103.8,\n          52.0,\n          91.4\n        ],\n        \"semantic_type\": \"\",\n        \"description\": \"\"\n      }\n    },\n    {\n      \"column\": \"Low Price\",\n      \"properties\": {\n        \"dtype\": \"number\",\n        \"std\": 50.08740528732745,\n        \"min\": 32.2,\n        \"max\": 303.9,\n        \"num_unique_values\": 1357,\n        \"samples\": [\n          169.6,\n          59.4,\n          254.9\n        ],\n        \"semantic_type\": \"\",\n        \"description\": \"\"\n      }\n    },\n    {\n      \"column\": \"Volume\",\n      \"properties\": {\n        \"dtype\": \"string\",\n        \"num_unique_values\": 8046,\n        \"samples\": [\n          \"163.27M\",\n          \"167.09M\",\n          \"43.41M\"\n        ],\n        \"semantic_type\": \"\",\n        \"description\": \"\"\n      }\n    },\n    {\n      \"column\": \"Change %\",\n      \"properties\": {\n        \"dtype\": \"category\",\n        \"num_unique_values\": 1052,\n        \"samples\": [\n          \"0.16%\",\n          \"-2.58%\",\n          \"1.24%\"\n        ],\n        \"semantic_type\": \"\",\n        \"description\": \"\"\n      }\n    }\n  ]\n}"
            }
          },
          "metadata": {},
          "execution_count": 24
        }
      ],
      "source": [
        "# Importing necessary libraries\n",
        "import pandas as pd\n",
        "import matplotlib.pyplot as plt\n",
        "import numpy as np\n",
        "\n",
        "# Load the stock price data\n",
        "df = pd.read_csv('/content/stock_price.csv')\n",
        "\n",
        "# Display the first few rows of the dataset\n",
        "df.head()"
      ]
    },
    {
      "cell_type": "markdown",
      "source": [
        "## 2. Data Preprocessing and Feature Engineering\n",
        "\n",
        "- Feature Scaling"
      ],
      "metadata": {
        "id": "63J_GCBD6mSH"
      }
    },
    {
      "cell_type": "code",
      "execution_count": 6,
      "metadata": {
        "id": "IqBXoKDmuK8_"
      },
      "outputs": [],
      "source": [
        "df1 = df.reset_index()['Close Price']"
      ]
    },
    {
      "cell_type": "code",
      "execution_count": 25,
      "metadata": {
        "colab": {
          "base_uri": "https://localhost:8080/"
        },
        "id": "g_a4gAH1uh2j",
        "outputId": "e593dc22-fd8d-486b-8c33-81147a6fbc0e"
      },
      "outputs": [
        {
          "output_type": "execute_result",
          "data": {
            "text/plain": [
              "array([[0.45181385],\n",
              "       [0.46683767],\n",
              "       [0.46060828],\n",
              "       ...,\n",
              "       [0.52216929],\n",
              "       [0.51117626],\n",
              "       [0.54745328]])"
            ]
          },
          "metadata": {},
          "execution_count": 25
        }
      ],
      "source": [
        "df1"
      ]
    },
    {
      "cell_type": "code",
      "execution_count": 22,
      "metadata": {
        "colab": {
          "base_uri": "https://localhost:8080/",
          "height": 447
        },
        "id": "-Eo8ImjSuo4u",
        "outputId": "a6af5e83-b179-4571-f1e1-e576d6f77cf9"
      },
      "outputs": [
        {
          "output_type": "execute_result",
          "data": {
            "text/plain": [
              "[<matplotlib.lines.Line2D at 0x7f4a37cde050>]"
            ]
          },
          "metadata": {},
          "execution_count": 22
        },
        {
          "output_type": "display_data",
          "data": {
            "text/plain": [
              "<Figure size 640x480 with 1 Axes>"
            ],
            "image/png": "[encoded data removed]"
          },
          "metadata": {}
        }
      ],
      "source": [
        "import matplotlib.pyplot as plt\n",
        "plt.plot(df1)"
      ]
    },
    {
      "cell_type": "code",
      "execution_count": null,
      "metadata": {
        "id": "SXD0TlAeux9X"
      },
      "outputs": [],
      "source": [
        "### LSTM are sensitive to scale of the data so we apply MinMax scaler"
      ]
    },
    {
      "cell_type": "code",
      "execution_count": 9,
      "metadata": {
        "id": "AB1BMPq-vCbH"
      },
      "outputs": [],
      "source": [
        "import numpy as np\n"
      ]
    },
    {
      "cell_type": "code",
      "execution_count": 10,
      "metadata": {
        "id": "gVh00027vGOI"
      },
      "outputs": [],
      "source": [
        "from sklearn.preprocessing import MinMaxScaler\n",
        "scaler=MinMaxScaler(feature_range=(0,1))\n",
        "df1=scaler.fit_transform(np.array(df1).reshape(-1,1))"
      ]
    },
    {
      "cell_type": "code",
      "execution_count": 26,
      "metadata": {
        "colab": {
          "base_uri": "https://localhost:8080/"
        },
        "id": "ltLybNH_vZhc",
        "outputId": "a0121b5d-fbe9-4b17-b7f7-2bcfca5fa930"
      },
      "outputs": [
        {
          "output_type": "stream",
          "name": "stdout",
          "text": [
            "[[0.45181385]\n",
            " [0.46683767]\n",
            " [0.46060828]\n",
            " ...\n",
            " [0.52216929]\n",
            " [0.51117626]\n",
            " [0.54745328]]\n"
          ]
        }
      ],
      "source": [
        "print(df1)"
      ]
    },
    {
      "cell_type": "code",
      "execution_count": 11,
      "metadata": {
        "id": "rwrdkF1Ov74i"
      },
      "outputs": [],
      "source": [
        "## splitting dataset into train and test split\n",
        "training_size=int(len(df1)*0.65)\n",
        "test_size=len(df1)-training_size\n",
        "train_data,test_data=df1[0:training_size,:],df1[training_size:len(df1),:1]"
      ]
    },
    {
      "cell_type": "markdown",
      "source": [],
      "metadata": {
        "id": "i9Vo-vRXt33y"
      }
    },
    {
      "cell_type": "code",
      "execution_count": 27,
      "metadata": {
        "colab": {
          "base_uri": "https://localhost:8080/"
        },
        "id": "c3Am18AZwPe1",
        "outputId": "19fc82c3-ba38-4097-f169-eb2bab2efd05"
      },
      "outputs": [
        {
          "output_type": "execute_result",
          "data": {
            "text/plain": [
              "(5981, 3221)"
            ]
          },
          "metadata": {},
          "execution_count": 27
        }
      ],
      "source": [
        "training_size,test_size"
      ]
    },
    {
      "cell_type": "code",
      "execution_count": 12,
      "metadata": {
        "id": "XJ4BiDu-wTsN"
      },
      "outputs": [],
      "source": [
        "import numpy\n",
        "# convert an array of values into datset matrix\n",
        "def create_dataset(dataset,time_step=1):\n",
        "    dataX,dataY=[],[]\n",
        "    for i in range(len(dataset)-time_step-1):\n",
        "        a=dataset[i:(i+time_step),0]\n",
        "        dataX.append(a)\n",
        "        dataY.append(dataset[i+time_step,0])\n",
        "\n",
        "    return numpy.array(dataX),numpy.array(dataY)"
      ]
    },
    {
      "cell_type": "code",
      "execution_count": 13,
      "metadata": {
        "id": "iwdpimrDw7oA"
      },
      "outputs": [],
      "source": [
        "#reshape into X=t,t+1,t+2,t+3 and t+4\n",
        "time_step=100\n",
        "X_train,y_train=create_dataset(train_data,time_step)\n",
        "X_test,y_test=create_dataset(test_data,time_step)"
      ]
    },
    {
      "cell_type": "code",
      "execution_count": 15,
      "metadata": {
        "id": "KjgF5W6ryKTu"
      },
      "outputs": [],
      "source": [
        "#reshape into X=t,t+1,t+2,t+3 and t+4\n",
        "time_step=100\n",
        "X_train,y_train=create_dataset(train_data,time_step)\n",
        "X_test,y_test=create_dataset(test_data,time_step)"
      ]
    },
    {
      "cell_type": "code",
      "execution_count": 28,
      "metadata": {
        "colab": {
          "base_uri": "https://localhost:8080/"
        },
        "id": "hqVImmf5yQfE",
        "outputId": "db66c812-7fe9-4ed7-8c16-e40dc759f8e5"
      },
      "outputs": [
        {
          "output_type": "stream",
          "name": "stdout",
          "text": [
            "(3120, 100, 1)\n",
            "(3120,)\n"
          ]
        },
        {
          "output_type": "execute_result",
          "data": {
            "text/plain": [
              "(None, None)"
            ]
          },
          "metadata": {},
          "execution_count": 28
        }
      ],
      "source": [
        "print(X_test.shape),print(y_test.shape)"
      ]
    },
    {
      "cell_type": "code",
      "execution_count": 16,
      "metadata": {
        "id": "9OFttwwQyX7b"
      },
      "outputs": [],
      "source": [
        "#reshape input to be [samples,time steps,features] which is required for LSTM\n",
        "X_train=X_train.reshape(X_train.shape[0],X_train.shape[1],1)\n",
        "X_test=X_test.reshape(X_test.shape[0],X_test.shape[1],1)"
      ]
    },
    {
      "cell_type": "markdown",
      "source": [
        "## 3. Model Selection and Training\n",
        "\n",
        "\n",
        "- Training the LSTM model using the preprocessed data."
      ],
      "metadata": {
        "id": "JEhrkomX6zdN"
      }
    },
    {
      "cell_type": "code",
      "execution_count": 29,
      "metadata": {
        "id": "JvO--kB0yuwr"
      },
      "outputs": [],
      "source": [
        "#Create the stacked LSTM model\n",
        "from tensorflow.keras.models import Sequential\n",
        "from tensorflow.keras.layers import Dense\n",
        "from tensorflow.keras.layers import LSTM"
      ]
    },
    {
      "cell_type": "code",
      "execution_count": 30,
      "metadata": {
        "colab": {
          "base_uri": "https://localhost:8080/"
        },
        "id": "1byx21Pdy1Xg",
        "outputId": "c1bbcbc7-b7a2-4746-a6d8-2e3a4566d501"
      },
      "outputs": [
        {
          "output_type": "stream",
          "name": "stderr",
          "text": [
            "/usr/local/lib/python3.10/dist-packages/keras/src/layers/rnn/rnn.py:204: UserWarning: Do not pass an `input_shape`/`input_dim` argument to a layer. When using Sequential models, prefer using an `Input(shape)` object as the first layer in the model instead.\n",
            "  super().__init__(**kwargs)\n"
          ]
        }
      ],
      "source": [
        "model=Sequential()\n",
        "model.add(LSTM(50,return_sequences=True,input_shape=(100,1)))\n",
        "model.add(LSTM(50,return_sequences=True))\n",
        "model.add(LSTM(50))\n",
        "model.add(Dense(1))\n",
        "model.compile(loss='mean_squared_error',optimizer='adam')"
      ]
    },
    {
      "cell_type": "code",
      "execution_count": 31,
      "metadata": {
        "colab": {
          "base_uri": "https://localhost:8080/",
          "height": 257
        },
        "id": "7AW6JWmAzVTD",
        "outputId": "5968bab0-0871-4f92-b6a3-c0df83df578c"
      },
      "outputs": [
        {
          "output_type": "display_data",
          "data": {
            "text/plain": [
              "\u001b[1mModel: \"sequential\"\u001b[0m\n"
            ],
            "text/html": [
              "<pre style=\"white-space:pre;overflow-x:auto;line-height:normal;font-family:Menlo,'DejaVu Sans Mono',consolas,'Courier New',monospace\"><span style=\"font-weight: bold\">Model: \"sequential\"</span>\n",
              "</pre>\n"
            ]
          },
          "metadata": {}
        },
        {
          "output_type": "display_data",
          "data": {
            "text/plain": [
              "┏━━━━━━━━━━━━━━━━━━━━━━━━━━━━━━━━━━━━━━┳━━━━━━━━━━━━━━━━━━━━━━━━━━━━━┳━━━━━━━━━━━━━━━━━┓\n",
              "┃\u001b[1m \u001b[0m\u001b[1mLayer (type)                        \u001b[0m\u001b[1m \u001b[0m┃\u001b[1m \u001b[0m\u001b[1mOutput Shape               \u001b[0m\u001b[1m \u001b[0m┃\u001b[1m \u001b[0m\u001b[1m        Param #\u001b[0m\u001b[1m \u001b[0m┃\n",
              "┡━━━━━━━━━━━━━━━━━━━━━━━━━━━━━━━━━━━━━━╇━━━━━━━━━━━━━━━━━━━━━━━━━━━━━╇━━━━━━━━━━━━━━━━━┩\n",
              "│ lstm (\u001b[38;5;33mLSTM\u001b[0m)                          │ (\u001b[38;5;45mNone\u001b[0m, \u001b[38;5;34m100\u001b[0m, \u001b[38;5;34m50\u001b[0m)             │          \u001b[38;5;34m10,400\u001b[0m │\n",
              "├──────────────────────────────────────┼─────────────────────────────┼─────────────────┤\n",
              "│ lstm_1 (\u001b[38;5;33mLSTM\u001b[0m)                        │ (\u001b[38;5;45mNone\u001b[0m, \u001b[38;5;34m100\u001b[0m, \u001b[38;5;34m50\u001b[0m)             │          \u001b[38;5;34m20,200\u001b[0m │\n",
              "├──────────────────────────────────────┼─────────────────────────────┼─────────────────┤\n",
              "│ lstm_2 (\u001b[38;5;33mLSTM\u001b[0m)                        │ (\u001b[38;5;45mNone\u001b[0m, \u001b[38;5;34m50\u001b[0m)                  │          \u001b[38;5;34m20,200\u001b[0m │\n",
              "├──────────────────────────────────────┼─────────────────────────────┼─────────────────┤\n",
              "│ dense (\u001b[38;5;33mDense\u001b[0m)                        │ (\u001b[38;5;45mNone\u001b[0m, \u001b[38;5;34m1\u001b[0m)                   │              \u001b[38;5;34m51\u001b[0m │\n",
              "└──────────────────────────────────────┴─────────────────────────────┴─────────────────┘\n"
            ],
            "text/html": [
              "<pre style=\"white-space:pre;overflow-x:auto;line-height:normal;font-family:Menlo,'DejaVu Sans Mono',consolas,'Courier New',monospace\">┏━━━━━━━━━━━━━━━━━━━━━━━━━━━━━━━━━━━━━━┳━━━━━━━━━━━━━━━━━━━━━━━━━━━━━┳━━━━━━━━━━━━━━━━━┓\n",
              "┃<span style=\"font-weight: bold\"> Layer (type)                         </span>┃<span style=\"font-weight: bold\"> Output Shape                </span>┃<span style=\"font-weight: bold\">         Param # </span>┃\n",
              "┡━━━━━━━━━━━━━━━━━━━━━━━━━━━━━━━━━━━━━━╇━━━━━━━━━━━━━━━━━━━━━━━━━━━━━╇━━━━━━━━━━━━━━━━━┩\n",
              "│ lstm (<span style=\"color: #0087ff; text-decoration-color: #0087ff\">LSTM</span>)                          │ (<span style=\"color: #00d7ff; text-decoration-color: #00d7ff\">None</span>, <span style=\"color: #00af00; text-decoration-color: #00af00\">100</span>, <span style=\"color: #00af00; text-decoration-color: #00af00\">50</span>)             │          <span style=\"color: #00af00; text-decoration-color: #00af00\">10,400</span> │\n",
              "├──────────────────────────────────────┼─────────────────────────────┼─────────────────┤\n",
              "│ lstm_1 (<span style=\"color: #0087ff; text-decoration-color: #0087ff\">LSTM</span>)                        │ (<span style=\"color: #00d7ff; text-decoration-color: #00d7ff\">None</span>, <span style=\"color: #00af00; text-decoration-color: #00af00\">100</span>, <span style=\"color: #00af00; text-decoration-color: #00af00\">50</span>)             │          <span style=\"color: #00af00; text-decoration-color: #00af00\">20,200</span> │\n",
              "├──────────────────────────────────────┼─────────────────────────────┼─────────────────┤\n",
              "│ lstm_2 (<span style=\"color: #0087ff; text-decoration-color: #0087ff\">LSTM</span>)                        │ (<span style=\"color: #00d7ff; text-decoration-color: #00d7ff\">None</span>, <span style=\"color: #00af00; text-decoration-color: #00af00\">50</span>)                  │          <span style=\"color: #00af00; text-decoration-color: #00af00\">20,200</span> │\n",
              "├──────────────────────────────────────┼─────────────────────────────┼─────────────────┤\n",
              "│ dense (<span style=\"color: #0087ff; text-decoration-color: #0087ff\">Dense</span>)                        │ (<span style=\"color: #00d7ff; text-decoration-color: #00d7ff\">None</span>, <span style=\"color: #00af00; text-decoration-color: #00af00\">1</span>)                   │              <span style=\"color: #00af00; text-decoration-color: #00af00\">51</span> │\n",
              "└──────────────────────────────────────┴─────────────────────────────┴─────────────────┘\n",
              "</pre>\n"
            ]
          },
          "metadata": {}
        },
        {
          "output_type": "display_data",
          "data": {
            "text/plain": [
              "\u001b[1m Total params: \u001b[0m\u001b[38;5;34m50,851\u001b[0m (198.64 KB)\n"
            ],
            "text/html": [
              "<pre style=\"white-space:pre;overflow-x:auto;line-height:normal;font-family:Menlo,'DejaVu Sans Mono',consolas,'Courier New',monospace\"><span style=\"font-weight: bold\"> Total params: </span><span style=\"color: #00af00; text-decoration-color: #00af00\">50,851</span> (198.64 KB)\n",
              "</pre>\n"
            ]
          },
          "metadata": {}
        },
        {
          "output_type": "display_data",
          "data": {
            "text/plain": [
              "\u001b[1m Trainable params: \u001b[0m\u001b[38;5;34m50,851\u001b[0m (198.64 KB)\n"
            ],
            "text/html": [
              "<pre style=\"white-space:pre;overflow-x:auto;line-height:normal;font-family:Menlo,'DejaVu Sans Mono',consolas,'Courier New',monospace\"><span style=\"font-weight: bold\"> Trainable params: </span><span style=\"color: #00af00; text-decoration-color: #00af00\">50,851</span> (198.64 KB)\n",
              "</pre>\n"
            ]
          },
          "metadata": {}
        },
        {
          "output_type": "display_data",
          "data": {
            "text/plain": [
              "\u001b[1m Non-trainable params: \u001b[0m\u001b[38;5;34m0\u001b[0m (0.00 B)\n"
            ],
            "text/html": [
              "<pre style=\"white-space:pre;overflow-x:auto;line-height:normal;font-family:Menlo,'DejaVu Sans Mono',consolas,'Courier New',monospace\"><span style=\"font-weight: bold\"> Non-trainable params: </span><span style=\"color: #00af00; text-decoration-color: #00af00\">0</span> (0.00 B)\n",
              "</pre>\n"
            ]
          },
          "metadata": {}
        }
      ],
      "source": [
        "model.summary()"
      ]
    },
    {
      "cell_type": "code",
      "execution_count": 32,
      "metadata": {
        "colab": {
          "base_uri": "https://localhost:8080/"
        },
        "id": "d3pBBb5Zzj0j",
        "outputId": "97fae028-c8fc-4762-ad4b-b1f77e0dab79"
      },
      "outputs": [
        {
          "output_type": "stream",
          "name": "stdout",
          "text": [
            "Epoch 1/100\n",
            "\u001b[1m92/92\u001b[0m \u001b[32m━━━━━━━━━━━━━━━━━━━━\u001b[0m\u001b[37m\u001b[0m \u001b[1m24s\u001b[0m 201ms/step - loss: 0.0073 - val_loss: 9.0324e-04\n",
            "Epoch 2/100\n",
            "\u001b[1m92/92\u001b[0m \u001b[32m━━━━━━━━━━━━━━━━━━━━\u001b[0m\u001b[37m\u001b[0m \u001b[1m21s\u001b[0m 228ms/step - loss: 1.5409e-04 - val_loss: 8.9538e-04\n",
            "Epoch 3/100\n",
            "\u001b[1m92/92\u001b[0m \u001b[32m━━━━━━━━━━━━━━━━━━━━\u001b[0m\u001b[37m\u001b[0m \u001b[1m40s\u001b[0m 213ms/step - loss: 1.5357e-04 - val_loss: 0.0011\n",
            "Epoch 4/100\n",
            "\u001b[1m92/92\u001b[0m \u001b[32m━━━━━━━━━━━━━━━━━━━━\u001b[0m\u001b[37m\u001b[0m \u001b[1m19s\u001b[0m 196ms/step - loss: 1.5929e-04 - val_loss: 7.9459e-04\n",
            "Epoch 5/100\n",
            "\u001b[1m92/92\u001b[0m \u001b[32m━━━━━━━━━━━━━━━━━━━━\u001b[0m\u001b[37m\u001b[0m \u001b[1m18s\u001b[0m 196ms/step - loss: 1.4215e-04 - val_loss: 6.6773e-04\n",
            "Epoch 6/100\n",
            "\u001b[1m92/92\u001b[0m \u001b[32m━━━━━━━━━━━━━━━━━━━━\u001b[0m\u001b[37m\u001b[0m \u001b[1m22s\u001b[0m 213ms/step - loss: 1.3230e-04 - val_loss: 6.2368e-04\n",
            "Epoch 7/100\n",
            "\u001b[1m92/92\u001b[0m \u001b[32m━━━━━━━━━━━━━━━━━━━━\u001b[0m\u001b[37m\u001b[0m \u001b[1m19s\u001b[0m 195ms/step - loss: 1.3738e-04 - val_loss: 5.1504e-04\n",
            "Epoch 8/100\n",
            "\u001b[1m92/92\u001b[0m \u001b[32m━━━━━━━━━━━━━━━━━━━━\u001b[0m\u001b[37m\u001b[0m \u001b[1m22s\u001b[0m 209ms/step - loss: 1.2621e-04 - val_loss: 5.6125e-04\n",
            "Epoch 9/100\n",
            "\u001b[1m92/92\u001b[0m \u001b[32m━━━━━━━━━━━━━━━━━━━━\u001b[0m\u001b[37m\u001b[0m \u001b[1m18s\u001b[0m 195ms/step - loss: 1.1171e-04 - val_loss: 4.6031e-04\n",
            "Epoch 10/100\n",
            "\u001b[1m92/92\u001b[0m \u001b[32m━━━━━━━━━━━━━━━━━━━━\u001b[0m\u001b[37m\u001b[0m \u001b[1m21s\u001b[0m 203ms/step - loss: 1.1353e-04 - val_loss: 3.9662e-04\n",
            "Epoch 11/100\n",
            "\u001b[1m92/92\u001b[0m \u001b[32m━━━━━━━━━━━━━━━━━━━━\u001b[0m\u001b[37m\u001b[0m \u001b[1m19s\u001b[0m 202ms/step - loss: 1.1239e-04 - val_loss: 4.0328e-04\n",
            "Epoch 12/100\n",
            "\u001b[1m92/92\u001b[0m \u001b[32m━━━━━━━━━━━━━━━━━━━━\u001b[0m\u001b[37m\u001b[0m \u001b[1m20s\u001b[0m 195ms/step - loss: 9.2301e-05 - val_loss: 4.4916e-04\n",
            "Epoch 13/100\n",
            "\u001b[1m92/92\u001b[0m \u001b[32m━━━━━━━━━━━━━━━━━━━━\u001b[0m\u001b[37m\u001b[0m \u001b[1m21s\u001b[0m 202ms/step - loss: 9.8830e-05 - val_loss: 3.3121e-04\n",
            "Epoch 14/100\n",
            "\u001b[1m92/92\u001b[0m \u001b[32m━━━━━━━━━━━━━━━━━━━━\u001b[0m\u001b[37m\u001b[0m \u001b[1m18s\u001b[0m 194ms/step - loss: 8.9956e-05 - val_loss: 2.9118e-04\n",
            "Epoch 15/100\n",
            "\u001b[1m92/92\u001b[0m \u001b[32m━━━━━━━━━━━━━━━━━━━━\u001b[0m\u001b[37m\u001b[0m \u001b[1m22s\u001b[0m 212ms/step - loss: 8.1512e-05 - val_loss: 3.2894e-04\n",
            "Epoch 16/100\n",
            "\u001b[1m92/92\u001b[0m \u001b[32m━━━━━━━━━━━━━━━━━━━━\u001b[0m\u001b[37m\u001b[0m \u001b[1m18s\u001b[0m 197ms/step - loss: 7.8388e-05 - val_loss: 2.5717e-04\n",
            "Epoch 17/100\n",
            "\u001b[1m92/92\u001b[0m \u001b[32m━━━━━━━━━━━━━━━━━━━━\u001b[0m\u001b[37m\u001b[0m \u001b[1m21s\u001b[0m 203ms/step - loss: 7.6162e-05 - val_loss: 2.5613e-04\n",
            "Epoch 18/100\n",
            "\u001b[1m92/92\u001b[0m \u001b[32m━━━━━━━━━━━━━━━━━━━━\u001b[0m\u001b[37m\u001b[0m \u001b[1m20s\u001b[0m 212ms/step - loss: 7.5413e-05 - val_loss: 2.6073e-04\n",
            "Epoch 19/100\n",
            "\u001b[1m92/92\u001b[0m \u001b[32m━━━━━━━━━━━━━━━━━━━━\u001b[0m\u001b[37m\u001b[0m \u001b[1m19s\u001b[0m 198ms/step - loss: 7.4447e-05 - val_loss: 2.0678e-04\n",
            "Epoch 20/100\n",
            "\u001b[1m92/92\u001b[0m \u001b[32m━━━━━━━━━━━━━━━━━━━━\u001b[0m\u001b[37m\u001b[0m \u001b[1m19s\u001b[0m 207ms/step - loss: 6.0711e-05 - val_loss: 1.9577e-04\n",
            "Epoch 21/100\n",
            "\u001b[1m92/92\u001b[0m \u001b[32m━━━━━━━━━━━━━━━━━━━━\u001b[0m\u001b[37m\u001b[0m \u001b[1m19s\u001b[0m 197ms/step - loss: 5.7378e-05 - val_loss: 1.9134e-04\n",
            "Epoch 22/100\n",
            "\u001b[1m92/92\u001b[0m \u001b[32m━━━━━━━━━━━━━━━━━━━━\u001b[0m\u001b[37m\u001b[0m \u001b[1m18s\u001b[0m 197ms/step - loss: 5.7486e-05 - val_loss: 2.3355e-04\n",
            "Epoch 23/100\n",
            "\u001b[1m92/92\u001b[0m \u001b[32m━━━━━━━━━━━━━━━━━━━━\u001b[0m\u001b[37m\u001b[0m \u001b[1m21s\u001b[0m 200ms/step - loss: 5.4749e-05 - val_loss: 2.0141e-04\n",
            "Epoch 24/100\n",
            "\u001b[1m92/92\u001b[0m \u001b[32m━━━━━━━━━━━━━━━━━━━━\u001b[0m\u001b[37m\u001b[0m \u001b[1m20s\u001b[0m 200ms/step - loss: 5.7358e-05 - val_loss: 2.5261e-04\n",
            "Epoch 25/100\n",
            "\u001b[1m92/92\u001b[0m \u001b[32m━━━━━━━━━━━━━━━━━━━━\u001b[0m\u001b[37m\u001b[0m \u001b[1m20s\u001b[0m 197ms/step - loss: 5.6702e-05 - val_loss: 1.8095e-04\n",
            "Epoch 26/100\n",
            "\u001b[1m92/92\u001b[0m \u001b[32m━━━━━━━━━━━━━━━━━━━━\u001b[0m\u001b[37m\u001b[0m \u001b[1m22s\u001b[0m 215ms/step - loss: 5.9370e-05 - val_loss: 1.4725e-04\n",
            "Epoch 27/100\n",
            "\u001b[1m92/92\u001b[0m \u001b[32m━━━━━━━━━━━━━━━━━━━━\u001b[0m\u001b[37m\u001b[0m \u001b[1m19s\u001b[0m 202ms/step - loss: 4.8317e-05 - val_loss: 3.0350e-04\n",
            "Epoch 28/100\n",
            "\u001b[1m92/92\u001b[0m \u001b[32m━━━━━━━━━━━━━━━━━━━━\u001b[0m\u001b[37m\u001b[0m \u001b[1m20s\u001b[0m 201ms/step - loss: 4.9814e-05 - val_loss: 1.5535e-04\n",
            "Epoch 29/100\n",
            "\u001b[1m92/92\u001b[0m \u001b[32m━━━━━━━━━━━━━━━━━━━━\u001b[0m\u001b[37m\u001b[0m \u001b[1m21s\u001b[0m 204ms/step - loss: 5.4064e-05 - val_loss: 1.3992e-04\n",
            "Epoch 30/100\n",
            "\u001b[1m92/92\u001b[0m \u001b[32m━━━━━━━━━━━━━━━━━━━━\u001b[0m\u001b[37m\u001b[0m \u001b[1m18s\u001b[0m 200ms/step - loss: 4.4527e-05 - val_loss: 1.5092e-04\n",
            "Epoch 31/100\n",
            "\u001b[1m92/92\u001b[0m \u001b[32m━━━━━━━━━━━━━━━━━━━━\u001b[0m\u001b[37m\u001b[0m \u001b[1m21s\u001b[0m 207ms/step - loss: 4.6389e-05 - val_loss: 1.3927e-04\n",
            "Epoch 32/100\n",
            "\u001b[1m92/92\u001b[0m \u001b[32m━━━━━━━━━━━━━━━━━━━━\u001b[0m\u001b[37m\u001b[0m \u001b[1m18s\u001b[0m 198ms/step - loss: 4.2652e-05 - val_loss: 1.4162e-04\n",
            "Epoch 33/100\n",
            "\u001b[1m92/92\u001b[0m \u001b[32m━━━━━━━━━━━━━━━━━━━━\u001b[0m\u001b[37m\u001b[0m \u001b[1m19s\u001b[0m 202ms/step - loss: 4.2962e-05 - val_loss: 1.5384e-04\n",
            "Epoch 34/100\n",
            "\u001b[1m92/92\u001b[0m \u001b[32m━━━━━━━━━━━━━━━━━━━━\u001b[0m\u001b[37m\u001b[0m \u001b[1m20s\u001b[0m 199ms/step - loss: 4.4083e-05 - val_loss: 1.2637e-04\n",
            "Epoch 35/100\n",
            "\u001b[1m92/92\u001b[0m \u001b[32m━━━━━━━━━━━━━━━━━━━━\u001b[0m\u001b[37m\u001b[0m \u001b[1m21s\u001b[0m 203ms/step - loss: 3.7532e-05 - val_loss: 1.2057e-04\n",
            "Epoch 36/100\n",
            "\u001b[1m92/92\u001b[0m \u001b[32m━━━━━━━━━━━━━━━━━━━━\u001b[0m\u001b[37m\u001b[0m \u001b[1m20s\u001b[0m 196ms/step - loss: 4.3087e-05 - val_loss: 1.4747e-04\n",
            "Epoch 37/100\n",
            "\u001b[1m92/92\u001b[0m \u001b[32m━━━━━━━━━━━━━━━━━━━━\u001b[0m\u001b[37m\u001b[0m \u001b[1m21s\u001b[0m 201ms/step - loss: 3.7252e-05 - val_loss: 2.0800e-04\n",
            "Epoch 38/100\n",
            "\u001b[1m92/92\u001b[0m \u001b[32m━━━━━━━━━━━━━━━━━━━━\u001b[0m\u001b[37m\u001b[0m \u001b[1m20s\u001b[0m 198ms/step - loss: 3.9911e-05 - val_loss: 1.2187e-04\n",
            "Epoch 39/100\n",
            "\u001b[1m92/92\u001b[0m \u001b[32m━━━━━━━━━━━━━━━━━━━━\u001b[0m\u001b[37m\u001b[0m \u001b[1m18s\u001b[0m 198ms/step - loss: 3.7143e-05 - val_loss: 1.2798e-04\n",
            "Epoch 40/100\n",
            "\u001b[1m92/92\u001b[0m \u001b[32m━━━━━━━━━━━━━━━━━━━━\u001b[0m\u001b[37m\u001b[0m \u001b[1m19s\u001b[0m 211ms/step - loss: 3.9525e-05 - val_loss: 1.0997e-04\n",
            "Epoch 41/100\n",
            "\u001b[1m92/92\u001b[0m \u001b[32m━━━━━━━━━━━━━━━━━━━━\u001b[0m\u001b[37m\u001b[0m \u001b[1m19s\u001b[0m 198ms/step - loss: 3.5342e-05 - val_loss: 1.8396e-04\n",
            "Epoch 42/100\n",
            "\u001b[1m92/92\u001b[0m \u001b[32m━━━━━━━━━━━━━━━━━━━━\u001b[0m\u001b[37m\u001b[0m \u001b[1m18s\u001b[0m 196ms/step - loss: 3.7025e-05 - val_loss: 1.1265e-04\n",
            "Epoch 43/100\n",
            "\u001b[1m92/92\u001b[0m \u001b[32m━━━━━━━━━━━━━━━━━━━━\u001b[0m\u001b[37m\u001b[0m \u001b[1m21s\u001b[0m 197ms/step - loss: 3.4550e-05 - val_loss: 1.3263e-04\n",
            "Epoch 44/100\n",
            "\u001b[1m92/92\u001b[0m \u001b[32m━━━━━━━━━━━━━━━━━━━━\u001b[0m\u001b[37m\u001b[0m \u001b[1m21s\u001b[0m 198ms/step - loss: 3.8379e-05 - val_loss: 1.2219e-04\n",
            "Epoch 45/100\n",
            "\u001b[1m92/92\u001b[0m \u001b[32m━━━━━━━━━━━━━━━━━━━━\u001b[0m\u001b[37m\u001b[0m \u001b[1m20s\u001b[0m 197ms/step - loss: 3.6461e-05 - val_loss: 1.1868e-04\n",
            "Epoch 46/100\n",
            "\u001b[1m92/92\u001b[0m \u001b[32m━━━━━━━━━━━━━━━━━━━━\u001b[0m\u001b[37m\u001b[0m \u001b[1m18s\u001b[0m 193ms/step - loss: 4.2645e-05 - val_loss: 1.3430e-04\n",
            "Epoch 47/100\n",
            "\u001b[1m92/92\u001b[0m \u001b[32m━━━━━━━━━━━━━━━━━━━━\u001b[0m\u001b[37m\u001b[0m \u001b[1m19s\u001b[0m 209ms/step - loss: 2.9935e-05 - val_loss: 1.3018e-04\n",
            "Epoch 48/100\n",
            "\u001b[1m92/92\u001b[0m \u001b[32m━━━━━━━━━━━━━━━━━━━━\u001b[0m\u001b[37m\u001b[0m \u001b[1m19s\u001b[0m 194ms/step - loss: 3.2825e-05 - val_loss: 1.1229e-04\n",
            "Epoch 49/100\n",
            "\u001b[1m92/92\u001b[0m \u001b[32m━━━━━━━━━━━━━━━━━━━━\u001b[0m\u001b[37m\u001b[0m \u001b[1m21s\u001b[0m 205ms/step - loss: 3.2753e-05 - val_loss: 1.2213e-04\n",
            "Epoch 50/100\n",
            "\u001b[1m92/92\u001b[0m \u001b[32m━━━━━━━━━━━━━━━━━━━━\u001b[0m\u001b[37m\u001b[0m \u001b[1m19s\u001b[0m 194ms/step - loss: 3.3228e-05 - val_loss: 1.4314e-04\n",
            "Epoch 51/100\n",
            "\u001b[1m92/92\u001b[0m \u001b[32m━━━━━━━━━━━━━━━━━━━━\u001b[0m\u001b[37m\u001b[0m \u001b[1m18s\u001b[0m 197ms/step - loss: 3.0376e-05 - val_loss: 1.2144e-04\n",
            "Epoch 52/100\n",
            "\u001b[1m92/92\u001b[0m \u001b[32m━━━━━━━━━━━━━━━━━━━━\u001b[0m\u001b[37m\u001b[0m \u001b[1m21s\u001b[0m 196ms/step - loss: 3.0009e-05 - val_loss: 1.1397e-04\n",
            "Epoch 53/100\n",
            "\u001b[1m92/92\u001b[0m \u001b[32m━━━━━━━━━━━━━━━━━━━━\u001b[0m\u001b[37m\u001b[0m \u001b[1m18s\u001b[0m 195ms/step - loss: 3.1500e-05 - val_loss: 1.2183e-04\n",
            "Epoch 54/100\n",
            "\u001b[1m92/92\u001b[0m \u001b[32m━━━━━━━━━━━━━━━━━━━━\u001b[0m\u001b[37m\u001b[0m \u001b[1m22s\u001b[0m 209ms/step - loss: 3.2880e-05 - val_loss: 1.3699e-04\n",
            "Epoch 55/100\n",
            "\u001b[1m92/92\u001b[0m \u001b[32m━━━━━━━━━━━━━━━━━━━━\u001b[0m\u001b[37m\u001b[0m \u001b[1m19s\u001b[0m 197ms/step - loss: 4.2539e-05 - val_loss: 1.1660e-04\n",
            "Epoch 56/100\n",
            "\u001b[1m92/92\u001b[0m \u001b[32m━━━━━━━━━━━━━━━━━━━━\u001b[0m\u001b[37m\u001b[0m \u001b[1m22s\u001b[0m 214ms/step - loss: 3.1654e-05 - val_loss: 1.9735e-04\n",
            "Epoch 57/100\n",
            "\u001b[1m92/92\u001b[0m \u001b[32m━━━━━━━━━━━━━━━━━━━━\u001b[0m\u001b[37m\u001b[0m \u001b[1m19s\u001b[0m 196ms/step - loss: 3.3020e-05 - val_loss: 1.2755e-04\n",
            "Epoch 58/100\n",
            "\u001b[1m92/92\u001b[0m \u001b[32m━━━━━━━━━━━━━━━━━━━━\u001b[0m\u001b[37m\u001b[0m \u001b[1m18s\u001b[0m 196ms/step - loss: 3.5725e-05 - val_loss: 1.3463e-04\n",
            "Epoch 59/100\n",
            "\u001b[1m92/92\u001b[0m \u001b[32m━━━━━━━━━━━━━━━━━━━━\u001b[0m\u001b[37m\u001b[0m \u001b[1m21s\u001b[0m 199ms/step - loss: 3.6220e-05 - val_loss: 1.2236e-04\n",
            "Epoch 60/100\n",
            "\u001b[1m92/92\u001b[0m \u001b[32m━━━━━━━━━━━━━━━━━━━━\u001b[0m\u001b[37m\u001b[0m \u001b[1m21s\u001b[0m 200ms/step - loss: 3.3020e-05 - val_loss: 1.1107e-04\n",
            "Epoch 61/100\n",
            "\u001b[1m92/92\u001b[0m \u001b[32m━━━━━━━━━━━━━━━━━━━━\u001b[0m\u001b[37m\u001b[0m \u001b[1m20s\u001b[0m 198ms/step - loss: 3.4162e-05 - val_loss: 1.1583e-04\n",
            "Epoch 62/100\n",
            "\u001b[1m92/92\u001b[0m \u001b[32m━━━━━━━━━━━━━━━━━━━━\u001b[0m\u001b[37m\u001b[0m \u001b[1m21s\u001b[0m 203ms/step - loss: 3.4121e-05 - val_loss: 1.4490e-04\n",
            "Epoch 63/100\n",
            "\u001b[1m92/92\u001b[0m \u001b[32m━━━━━━━━━━━━━━━━━━━━\u001b[0m\u001b[37m\u001b[0m \u001b[1m20s\u001b[0m 199ms/step - loss: 2.9649e-05 - val_loss: 1.1672e-04\n",
            "Epoch 64/100\n",
            "\u001b[1m92/92\u001b[0m \u001b[32m━━━━━━━━━━━━━━━━━━━━\u001b[0m\u001b[37m\u001b[0m \u001b[1m21s\u001b[0m 205ms/step - loss: 3.1603e-05 - val_loss: 1.6577e-04\n",
            "Epoch 65/100\n",
            "\u001b[1m92/92\u001b[0m \u001b[32m━━━━━━━━━━━━━━━━━━━━\u001b[0m\u001b[37m\u001b[0m \u001b[1m19s\u001b[0m 207ms/step - loss: 3.8595e-05 - val_loss: 1.0762e-04\n",
            "Epoch 66/100\n",
            "\u001b[1m92/92\u001b[0m \u001b[32m━━━━━━━━━━━━━━━━━━━━\u001b[0m\u001b[37m\u001b[0m \u001b[1m18s\u001b[0m 196ms/step - loss: 3.3607e-05 - val_loss: 1.1054e-04\n",
            "Epoch 67/100\n",
            "\u001b[1m92/92\u001b[0m \u001b[32m━━━━━━━━━━━━━━━━━━━━\u001b[0m\u001b[37m\u001b[0m \u001b[1m18s\u001b[0m 200ms/step - loss: 3.6445e-05 - val_loss: 1.0916e-04\n",
            "Epoch 68/100\n",
            "\u001b[1m92/92\u001b[0m \u001b[32m━━━━━━━━━━━━━━━━━━━━\u001b[0m\u001b[37m\u001b[0m \u001b[1m20s\u001b[0m 198ms/step - loss: 3.3530e-05 - val_loss: 1.1946e-04\n",
            "Epoch 69/100\n",
            "\u001b[1m92/92\u001b[0m \u001b[32m━━━━━━━━━━━━━━━━━━━━\u001b[0m\u001b[37m\u001b[0m \u001b[1m21s\u001b[0m 205ms/step - loss: 3.0528e-05 - val_loss: 1.4847e-04\n",
            "Epoch 70/100\n",
            "\u001b[1m92/92\u001b[0m \u001b[32m━━━━━━━━━━━━━━━━━━━━\u001b[0m\u001b[37m\u001b[0m \u001b[1m20s\u001b[0m 197ms/step - loss: 2.9816e-05 - val_loss: 1.4211e-04\n",
            "Epoch 71/100\n",
            "\u001b[1m92/92\u001b[0m \u001b[32m━━━━━━━━━━━━━━━━━━━━\u001b[0m\u001b[37m\u001b[0m \u001b[1m21s\u001b[0m 202ms/step - loss: 3.2471e-05 - val_loss: 1.5218e-04\n",
            "Epoch 72/100\n",
            "\u001b[1m92/92\u001b[0m \u001b[32m━━━━━━━━━━━━━━━━━━━━\u001b[0m\u001b[37m\u001b[0m \u001b[1m20s\u001b[0m 195ms/step - loss: 3.2622e-05 - val_loss: 1.1419e-04\n",
            "Epoch 73/100\n",
            "\u001b[1m92/92\u001b[0m \u001b[32m━━━━━━━━━━━━━━━━━━━━\u001b[0m\u001b[37m\u001b[0m \u001b[1m22s\u001b[0m 207ms/step - loss: 2.9560e-05 - val_loss: 1.2891e-04\n",
            "Epoch 74/100\n",
            "\u001b[1m92/92\u001b[0m \u001b[32m━━━━━━━━━━━━━━━━━━━━\u001b[0m\u001b[37m\u001b[0m \u001b[1m19s\u001b[0m 195ms/step - loss: 3.2073e-05 - val_loss: 1.1686e-04\n",
            "Epoch 75/100\n",
            "\u001b[1m92/92\u001b[0m \u001b[32m━━━━━━━━━━━━━━━━━━━━\u001b[0m\u001b[37m\u001b[0m \u001b[1m22s\u001b[0m 208ms/step - loss: 2.9880e-05 - val_loss: 1.3189e-04\n",
            "Epoch 76/100\n",
            "\u001b[1m92/92\u001b[0m \u001b[32m━━━━━━━━━━━━━━━━━━━━\u001b[0m\u001b[37m\u001b[0m \u001b[1m19s\u001b[0m 195ms/step - loss: 2.9707e-05 - val_loss: 1.0889e-04\n",
            "Epoch 77/100\n",
            "\u001b[1m92/92\u001b[0m \u001b[32m━━━━━━━━━━━━━━━━━━━━\u001b[0m\u001b[37m\u001b[0m \u001b[1m22s\u001b[0m 206ms/step - loss: 3.2127e-05 - val_loss: 1.7485e-04\n",
            "Epoch 78/100\n",
            "\u001b[1m92/92\u001b[0m \u001b[32m━━━━━━━━━━━━━━━━━━━━\u001b[0m\u001b[37m\u001b[0m \u001b[1m20s\u001b[0m 198ms/step - loss: 3.5016e-05 - val_loss: 1.6952e-04\n",
            "Epoch 79/100\n",
            "\u001b[1m92/92\u001b[0m \u001b[32m━━━━━━━━━━━━━━━━━━━━\u001b[0m\u001b[37m\u001b[0m \u001b[1m21s\u001b[0m 203ms/step - loss: 4.0474e-05 - val_loss: 1.5442e-04\n",
            "Epoch 80/100\n",
            "\u001b[1m92/92\u001b[0m \u001b[32m━━━━━━━━━━━━━━━━━━━━\u001b[0m\u001b[37m\u001b[0m \u001b[1m20s\u001b[0m 195ms/step - loss: 3.1990e-05 - val_loss: 1.3217e-04\n",
            "Epoch 81/100\n",
            "\u001b[1m92/92\u001b[0m \u001b[32m━━━━━━━━━━━━━━━━━━━━\u001b[0m\u001b[37m\u001b[0m \u001b[1m21s\u001b[0m 206ms/step - loss: 3.0058e-05 - val_loss: 1.0650e-04\n",
            "Epoch 82/100\n",
            "\u001b[1m92/92\u001b[0m \u001b[32m━━━━━━━━━━━━━━━━━━━━\u001b[0m\u001b[37m\u001b[0m \u001b[1m19s\u001b[0m 195ms/step - loss: 2.8486e-05 - val_loss: 1.7652e-04\n",
            "Epoch 83/100\n",
            "\u001b[1m92/92\u001b[0m \u001b[32m━━━━━━━━━━━━━━━━━━━━\u001b[0m\u001b[37m\u001b[0m \u001b[1m18s\u001b[0m 197ms/step - loss: 3.0268e-05 - val_loss: 1.5514e-04\n",
            "Epoch 84/100\n",
            "\u001b[1m92/92\u001b[0m \u001b[32m━━━━━━━━━━━━━━━━━━━━\u001b[0m\u001b[37m\u001b[0m \u001b[1m21s\u001b[0m 198ms/step - loss: 2.9756e-05 - val_loss: 1.2899e-04\n",
            "Epoch 85/100\n",
            "\u001b[1m92/92\u001b[0m \u001b[32m━━━━━━━━━━━━━━━━━━━━\u001b[0m\u001b[37m\u001b[0m \u001b[1m21s\u001b[0m 206ms/step - loss: 3.0557e-05 - val_loss: 1.1632e-04\n",
            "Epoch 86/100\n",
            "\u001b[1m92/92\u001b[0m \u001b[32m━━━━━━━━━━━━━━━━━━━━\u001b[0m\u001b[37m\u001b[0m \u001b[1m19s\u001b[0m 207ms/step - loss: 2.9215e-05 - val_loss: 1.2051e-04\n",
            "Epoch 87/100\n",
            "\u001b[1m92/92\u001b[0m \u001b[32m━━━━━━━━━━━━━━━━━━━━\u001b[0m\u001b[37m\u001b[0m \u001b[1m19s\u001b[0m 197ms/step - loss: 2.8752e-05 - val_loss: 1.1143e-04\n",
            "Epoch 88/100\n",
            "\u001b[1m92/92\u001b[0m \u001b[32m━━━━━━━━━━━━━━━━━━━━\u001b[0m\u001b[37m\u001b[0m \u001b[1m21s\u001b[0m 200ms/step - loss: 3.2651e-05 - val_loss: 1.2753e-04\n",
            "Epoch 89/100\n",
            "\u001b[1m92/92\u001b[0m \u001b[32m━━━━━━━━━━━━━━━━━━━━\u001b[0m\u001b[37m\u001b[0m \u001b[1m20s\u001b[0m 200ms/step - loss: 3.7844e-05 - val_loss: 1.3025e-04\n",
            "Epoch 90/100\n",
            "\u001b[1m92/92\u001b[0m \u001b[32m━━━━━━━━━━━━━━━━━━━━\u001b[0m\u001b[37m\u001b[0m \u001b[1m20s\u001b[0m 218ms/step - loss: 2.9041e-05 - val_loss: 1.2160e-04\n",
            "Epoch 91/100\n",
            "\u001b[1m92/92\u001b[0m \u001b[32m━━━━━━━━━━━━━━━━━━━━\u001b[0m\u001b[37m\u001b[0m \u001b[1m19s\u001b[0m 199ms/step - loss: 3.3675e-05 - val_loss: 1.2511e-04\n",
            "Epoch 92/100\n",
            "\u001b[1m92/92\u001b[0m \u001b[32m━━━━━━━━━━━━━━━━━━━━\u001b[0m\u001b[37m\u001b[0m \u001b[1m22s\u001b[0m 213ms/step - loss: 2.8432e-05 - val_loss: 1.1854e-04\n",
            "Epoch 93/100\n",
            "\u001b[1m92/92\u001b[0m \u001b[32m━━━━━━━━━━━━━━━━━━━━\u001b[0m\u001b[37m\u001b[0m \u001b[1m19s\u001b[0m 198ms/step - loss: 3.0633e-05 - val_loss: 1.5093e-04\n",
            "Epoch 94/100\n",
            "\u001b[1m92/92\u001b[0m \u001b[32m━━━━━━━━━━━━━━━━━━━━\u001b[0m\u001b[37m\u001b[0m \u001b[1m21s\u001b[0m 202ms/step - loss: 4.4503e-05 - val_loss: 1.1338e-04\n",
            "Epoch 95/100\n",
            "\u001b[1m92/92\u001b[0m \u001b[32m━━━━━━━━━━━━━━━━━━━━\u001b[0m\u001b[37m\u001b[0m \u001b[1m20s\u001b[0m 196ms/step - loss: 3.1516e-05 - val_loss: 1.3517e-04\n",
            "Epoch 96/100\n",
            "\u001b[1m92/92\u001b[0m \u001b[32m━━━━━━━━━━━━━━━━━━━━\u001b[0m\u001b[37m\u001b[0m \u001b[1m21s\u001b[0m 207ms/step - loss: 2.8955e-05 - val_loss: 1.2811e-04\n",
            "Epoch 97/100\n",
            "\u001b[1m92/92\u001b[0m \u001b[32m━━━━━━━━━━━━━━━━━━━━\u001b[0m\u001b[37m\u001b[0m \u001b[1m20s\u001b[0m 200ms/step - loss: 3.8250e-05 - val_loss: 1.3402e-04\n",
            "Epoch 98/100\n",
            "\u001b[1m92/92\u001b[0m \u001b[32m━━━━━━━━━━━━━━━━━━━━\u001b[0m\u001b[37m\u001b[0m \u001b[1m21s\u001b[0m 204ms/step - loss: 3.1371e-05 - val_loss: 1.3044e-04\n",
            "Epoch 99/100\n",
            "\u001b[1m92/92\u001b[0m \u001b[32m━━━━━━━━━━━━━━━━━━━━\u001b[0m\u001b[37m\u001b[0m \u001b[1m20s\u001b[0m 201ms/step - loss: 3.3522e-05 - val_loss: 1.6357e-04\n",
            "Epoch 100/100\n",
            "\u001b[1m92/92\u001b[0m \u001b[32m━━━━━━━━━━━━━━━━━━━━\u001b[0m\u001b[37m\u001b[0m \u001b[1m22s\u001b[0m 213ms/step - loss: 3.1206e-05 - val_loss: 1.4259e-04\n"
          ]
        },
        {
          "output_type": "execute_result",
          "data": {
            "text/plain": [
              "<keras.src.callbacks.history.History at 0x7f4aa470ae60>"
            ]
          },
          "metadata": {},
          "execution_count": 32
        }
      ],
      "source": [
        "model.fit(X_train,y_train,validation_data=(X_test,y_test),epochs=100,batch_size=64,verbose=1)"
      ]
    },
    {
      "cell_type": "code",
      "source": [
        "model.save('Stock Predictions Model.keras')"
      ],
      "metadata": {
        "id": "cxkjgQi55F0X"
      },
      "execution_count": 40,
      "outputs": []
    },
    {
      "cell_type": "markdown",
      "source": [
        "## 4. Model Evaluation and Result Analysis\n",
        "\n",
        "###Evaluating the model's performance using metrics and visualizing the results.\n",
        "- Using RMSE metric.\n",
        "- Plotting predicted vs actual values."
      ],
      "metadata": {
        "id": "z1WflGILK4pn"
      }
    },
    {
      "cell_type": "code",
      "source": [
        "from keras.models import load_model\n",
        "\n",
        "# Load the model\n",
        "model = load_model('/content/Stock Predictions Model.keras')"
      ],
      "metadata": {
        "colab": {
          "base_uri": "https://localhost:8080/"
        },
        "id": "koAAubh25Nz3",
        "outputId": "bb1b6e60-4905-4b0a-dddb-50f7c13ebfc2"
      },
      "execution_count": 42,
      "outputs": [
        {
          "output_type": "stream",
          "name": "stderr",
          "text": [
            "/usr/local/lib/python3.10/dist-packages/keras/src/saving/saving_lib.py:576: UserWarning: Skipping variable loading for optimizer 'adam', because it has 24 variables whereas the saved optimizer has 2 variables. \n",
            "  saveable.load_own_variables(weights_store.get(inner_path))\n"
          ]
        }
      ]
    },
    {
      "cell_type": "code",
      "source": [
        "### Lets Do the prediction and check performance metrics\n",
        "train_predict=model.predict(X_train)\n",
        "test_predict=model.predict(X_test)"
      ],
      "metadata": {
        "colab": {
          "base_uri": "https://localhost:8080/"
        },
        "id": "sju1x_6eMB9W",
        "outputId": "d4108074-8f4a-4edc-c264-01545accf826"
      },
      "execution_count": 43,
      "outputs": [
        {
          "output_type": "stream",
          "name": "stdout",
          "text": [
            "\u001b[1m184/184\u001b[0m \u001b[32m━━━━━━━━━━━━━━━━━━━━\u001b[0m\u001b[37m\u001b[0m \u001b[1m7s\u001b[0m 38ms/step\n",
            "\u001b[1m98/98\u001b[0m \u001b[32m━━━━━━━━━━━━━━━━━━━━\u001b[0m\u001b[37m\u001b[0m \u001b[1m7s\u001b[0m 74ms/step\n"
          ]
        }
      ]
    },
    {
      "cell_type": "code",
      "source": [
        "##Transformback to original form\n",
        "train_predict=scaler.inverse_transform(train_predict)\n",
        "test_predict=scaler.inverse_transform(test_predict)"
      ],
      "metadata": {
        "id": "yy3KQR8YMBC4"
      },
      "execution_count": 44,
      "outputs": []
    },
    {
      "cell_type": "code",
      "source": [
        "### Calculate RMSE performance metrics\n",
        "import math\n",
        "from sklearn.metrics import mean_squared_error\n",
        "math.sqrt(mean_squared_error(y_train,train_predict))"
      ],
      "metadata": {
        "colab": {
          "base_uri": "https://localhost:8080/"
        },
        "id": "B9ATpqc0MA57",
        "outputId": "57acd2b5-2261-414c-d7da-1533fc76952f"
      },
      "execution_count": 46,
      "outputs": [
        {
          "output_type": "execute_result",
          "data": {
            "text/plain": [
              "84.77961041419468"
            ]
          },
          "metadata": {},
          "execution_count": 46
        }
      ]
    },
    {
      "cell_type": "code",
      "source": [
        "### Test Data RMSE\n",
        "math.sqrt(mean_squared_error(y_test,test_predict))"
      ],
      "metadata": {
        "id": "EfHQCrQtMAoB",
        "colab": {
          "base_uri": "https://localhost:8080/"
        },
        "outputId": "3f15b1b5-0973-431d-8fb6-1c5837459902"
      },
      "execution_count": 47,
      "outputs": [
        {
          "output_type": "execute_result",
          "data": {
            "text/plain": [
              "128.79471330683754"
            ]
          },
          "metadata": {},
          "execution_count": 47
        }
      ]
    },
    {
      "cell_type": "code",
      "source": [
        "### Plotting\n",
        "# shift train predictions for plotting\n",
        "look_back=100\n",
        "trainPredictPlot = numpy.empty_like(df1)\n",
        "trainPredictPlot[:, :] = np.nan\n",
        "trainPredictPlot[look_back:len(train_predict)+look_back, :] = train_predict\n",
        "# shift test predictions for plotting\n",
        "testPredictPlot = numpy.empty_like(df1)\n",
        "testPredictPlot[:, :] = numpy.nan\n",
        "testPredictPlot[len(train_predict)+(look_back*2)+1:len(df1)-1, :] = test_predict\n",
        "# plot baseline and predictions\n",
        "plt.plot(scaler.inverse_transform(df1))\n",
        "plt.plot(trainPredictPlot)\n",
        "plt.plot(testPredictPlot)\n",
        "plt.show()"
      ],
      "metadata": {
        "colab": {
          "base_uri": "https://localhost:8080/",
          "height": 430
        },
        "id": "QGt-HDUIOQNa",
        "outputId": "f5a8f4fa-c17c-486f-fb8a-56802723ddb0"
      },
      "execution_count": 39,
      "outputs": [
        {
          "output_type": "display_data",
          "data": {
            "text/plain": [
              "<Figure size 640x480 with 1 Axes>"
            ],
            "image/png": "[encoded data removed]"
          },
          "metadata": {}
        }
      ]
    },
    {
      "cell_type": "code",
      "source": [
        "len(test_data)"
      ],
      "metadata": {
        "colab": {
          "base_uri": "https://localhost:8080/"
        },
        "id": "fqtuf9Z_OVmJ",
        "outputId": "87235e7c-68fb-4f79-bb59-a0fa629b68e5"
      },
      "execution_count": 48,
      "outputs": [
        {
          "output_type": "execute_result",
          "data": {
            "text/plain": [
              "3221"
            ]
          },
          "metadata": {},
          "execution_count": 48
        }
      ]
    },
    {
      "cell_type": "code",
      "source": [
        "x_input=test_data[3121:].reshape(1,-1)\n",
        "x_input.shape\n",
        "\n",
        "\n"
      ],
      "metadata": {
        "colab": {
          "base_uri": "https://localhost:8080/"
        },
        "id": "MPnQS4vXPDIz",
        "outputId": "d2d61f92-75a8-4d41-80ab-c20616065614"
      },
      "execution_count": 49,
      "outputs": [
        {
          "output_type": "execute_result",
          "data": {
            "text/plain": [
              "(1, 100)"
            ]
          },
          "metadata": {},
          "execution_count": 49
        }
      ]
    },
    {
      "cell_type": "code",
      "source": [
        "temp_input=list(x_input)\n",
        "temp_input=temp_input[0].tolist()"
      ],
      "metadata": {
        "id": "08BeR4rHPW_w"
      },
      "execution_count": 50,
      "outputs": []
    },
    {
      "cell_type": "code",
      "source": [
        "# demonstrate prediction for next 30 days\n",
        "from numpy import array\n",
        "\n",
        "lst_output=[]\n",
        "n_steps=100\n",
        "i=0\n",
        "while(i<30):\n",
        "\n",
        "    if(len(temp_input)>100):\n",
        "        #print(temp_input)\n",
        "        x_input=np.array(temp_input[1:])\n",
        "        print(\"{} day input {}\".format(i,x_input))\n",
        "        x_input=x_input.reshape(1,-1)\n",
        "        x_input = x_input.reshape((1, n_steps, 1))\n",
        "        #print(x_input)\n",
        "        yhat = model.predict(x_input, verbose=0)\n",
        "        print(\"{} day output {}\".format(i,yhat))\n",
        "        temp_input.extend(yhat[0].tolist())\n",
        "        temp_input=temp_input[1:]\n",
        "        #print(temp_input)\n",
        "        lst_output.extend(yhat.tolist())\n",
        "        i=i+1\n",
        "    else:\n",
        "        x_input = x_input.reshape((1, n_steps,1))\n",
        "        yhat = model.predict(x_input, verbose=0)\n",
        "        print(yhat[0])\n",
        "        temp_input.extend(yhat[0].tolist())\n",
        "        print(len(temp_input))\n",
        "        lst_output.extend(yhat.tolist())\n",
        "        i=i+1\n",
        "\n",
        "\n",
        "print(lst_output)"
      ],
      "metadata": {
        "colab": {
          "base_uri": "https://localhost:8080/"
        },
        "id": "Avzr9lNjPbTI",
        "outputId": "cef04e3c-d2dc-4497-cfb3-99eabfe72fee"
      },
      "execution_count": 51,
      "outputs": [
        {
          "output_type": "stream",
          "name": "stdout",
          "text": [
            "[0.5585753]\n",
            "101\n",
            "1 day input [0.77720777 0.80945401 0.79149872 0.76987908 0.78783437 0.80249176\n",
            " 0.80578967 0.82044705 0.82740931 0.78783437 0.82374496 0.86698424\n",
            " 0.89593258 0.90289483 0.90655918 0.91022353 0.91022353 0.90289483\n",
            " 0.90289483 0.89593258 0.89593258 0.90655918 0.89593258 0.89923049\n",
            " 0.90289483 0.90289483 0.89923049 0.91022353 0.90289483 0.90289483\n",
            " 0.91388787 0.90289483 0.89593258 0.91388787 0.91388787 0.93514108\n",
            " 0.94246977 0.94979846 0.96775376 1.         0.99633565 0.99267131\n",
            " 0.97471601 0.97471601 0.93184317 0.92085013 0.93880542 0.97471601\n",
            " 0.98900696 0.98204471 0.99633565 0.95676072 0.92085013 0.88127519\n",
            " 0.85269329 0.87431294 0.84170026 0.8453646  0.86698424 0.88127519\n",
            " 0.88493954 0.87431294 0.89593258 0.87431294 0.88860388 0.85269329\n",
            " 0.83107365 0.88493954 0.84170026 0.81311836 0.82044705 0.834738\n",
            " 0.83107365 0.8453646  0.88493954 0.89593258 0.90655918 0.92085013\n",
            " 0.92085013 0.90655918 0.89226823 0.90655918 0.91388787 0.93184317\n",
            " 0.92085013 0.88493954 0.8453646  0.80945401 0.78453646 0.80578967\n",
            " 0.87064859 0.74129718 0.6515207  0.59765482 0.57969952 0.54745328\n",
            " 0.52216929 0.51117626 0.54745328 0.55857527]\n",
            "1 day output [[0.5603254]]\n",
            "2 day input [0.80945401 0.79149872 0.76987908 0.78783437 0.80249176 0.80578967\n",
            " 0.82044705 0.82740931 0.78783437 0.82374496 0.86698424 0.89593258\n",
            " 0.90289483 0.90655918 0.91022353 0.91022353 0.90289483 0.90289483\n",
            " 0.89593258 0.89593258 0.90655918 0.89593258 0.89923049 0.90289483\n",
            " 0.90289483 0.89923049 0.91022353 0.90289483 0.90289483 0.91388787\n",
            " 0.90289483 0.89593258 0.91388787 0.91388787 0.93514108 0.94246977\n",
            " 0.94979846 0.96775376 1.         0.99633565 0.99267131 0.97471601\n",
            " 0.97471601 0.93184317 0.92085013 0.93880542 0.97471601 0.98900696\n",
            " 0.98204471 0.99633565 0.95676072 0.92085013 0.88127519 0.85269329\n",
            " 0.87431294 0.84170026 0.8453646  0.86698424 0.88127519 0.88493954\n",
            " 0.87431294 0.89593258 0.87431294 0.88860388 0.85269329 0.83107365\n",
            " 0.88493954 0.84170026 0.81311836 0.82044705 0.834738   0.83107365\n",
            " 0.8453646  0.88493954 0.89593258 0.90655918 0.92085013 0.92085013\n",
            " 0.90655918 0.89226823 0.90655918 0.91388787 0.93184317 0.92085013\n",
            " 0.88493954 0.8453646  0.80945401 0.78453646 0.80578967 0.87064859\n",
            " 0.74129718 0.6515207  0.59765482 0.57969952 0.54745328 0.52216929\n",
            " 0.51117626 0.54745328 0.55857527 0.56032538]\n",
            "2 day output [[0.5580589]]\n",
            "3 day input [0.79149872 0.76987908 0.78783437 0.80249176 0.80578967 0.82044705\n",
            " 0.82740931 0.78783437 0.82374496 0.86698424 0.89593258 0.90289483\n",
            " 0.90655918 0.91022353 0.91022353 0.90289483 0.90289483 0.89593258\n",
            " 0.89593258 0.90655918 0.89593258 0.89923049 0.90289483 0.90289483\n",
            " 0.89923049 0.91022353 0.90289483 0.90289483 0.91388787 0.90289483\n",
            " 0.89593258 0.91388787 0.91388787 0.93514108 0.94246977 0.94979846\n",
            " 0.96775376 1.         0.99633565 0.99267131 0.97471601 0.97471601\n",
            " 0.93184317 0.92085013 0.93880542 0.97471601 0.98900696 0.98204471\n",
            " 0.99633565 0.95676072 0.92085013 0.88127519 0.85269329 0.87431294\n",
            " 0.84170026 0.8453646  0.86698424 0.88127519 0.88493954 0.87431294\n",
            " 0.89593258 0.87431294 0.88860388 0.85269329 0.83107365 0.88493954\n",
            " 0.84170026 0.81311836 0.82044705 0.834738   0.83107365 0.8453646\n",
            " 0.88493954 0.89593258 0.90655918 0.92085013 0.92085013 0.90655918\n",
            " 0.89226823 0.90655918 0.91388787 0.93184317 0.92085013 0.88493954\n",
            " 0.8453646  0.80945401 0.78453646 0.80578967 0.87064859 0.74129718\n",
            " 0.6515207  0.59765482 0.57969952 0.54745328 0.52216929 0.51117626\n",
            " 0.54745328 0.55857527 0.56032538 0.55805892]\n",
            "3 day output [[0.55732626]]\n",
            "4 day input [0.76987908 0.78783437 0.80249176 0.80578967 0.82044705 0.82740931\n",
            " 0.78783437 0.82374496 0.86698424 0.89593258 0.90289483 0.90655918\n",
            " 0.91022353 0.91022353 0.90289483 0.90289483 0.89593258 0.89593258\n",
            " 0.90655918 0.89593258 0.89923049 0.90289483 0.90289483 0.89923049\n",
            " 0.91022353 0.90289483 0.90289483 0.91388787 0.90289483 0.89593258\n",
            " 0.91388787 0.91388787 0.93514108 0.94246977 0.94979846 0.96775376\n",
            " 1.         0.99633565 0.99267131 0.97471601 0.97471601 0.93184317\n",
            " 0.92085013 0.93880542 0.97471601 0.98900696 0.98204471 0.99633565\n",
            " 0.95676072 0.92085013 0.88127519 0.85269329 0.87431294 0.84170026\n",
            " 0.8453646  0.86698424 0.88127519 0.88493954 0.87431294 0.89593258\n",
            " 0.87431294 0.88860388 0.85269329 0.83107365 0.88493954 0.84170026\n",
            " 0.81311836 0.82044705 0.834738   0.83107365 0.8453646  0.88493954\n",
            " 0.89593258 0.90655918 0.92085013 0.92085013 0.90655918 0.89226823\n",
            " 0.90655918 0.91388787 0.93184317 0.92085013 0.88493954 0.8453646\n",
            " 0.80945401 0.78453646 0.80578967 0.87064859 0.74129718 0.6515207\n",
            " 0.59765482 0.57969952 0.54745328 0.52216929 0.51117626 0.54745328\n",
            " 0.55857527 0.56032538 0.55805892 0.55732626]\n",
            "4 day output [[0.5578765]]\n",
            "5 day input [0.78783437 0.80249176 0.80578967 0.82044705 0.82740931 0.78783437\n",
            " 0.82374496 0.86698424 0.89593258 0.90289483 0.90655918 0.91022353\n",
            " 0.91022353 0.90289483 0.90289483 0.89593258 0.89593258 0.90655918\n",
            " 0.89593258 0.89923049 0.90289483 0.90289483 0.89923049 0.91022353\n",
            " 0.90289483 0.90289483 0.91388787 0.90289483 0.89593258 0.91388787\n",
            " 0.91388787 0.93514108 0.94246977 0.94979846 0.96775376 1.\n",
            " 0.99633565 0.99267131 0.97471601 0.97471601 0.93184317 0.92085013\n",
            " 0.93880542 0.97471601 0.98900696 0.98204471 0.99633565 0.95676072\n",
            " 0.92085013 0.88127519 0.85269329 0.87431294 0.84170026 0.8453646\n",
            " 0.86698424 0.88127519 0.88493954 0.87431294 0.89593258 0.87431294\n",
            " 0.88860388 0.85269329 0.83107365 0.88493954 0.84170026 0.81311836\n",
            " 0.82044705 0.834738   0.83107365 0.8453646  0.88493954 0.89593258\n",
            " 0.90655918 0.92085013 0.92085013 0.90655918 0.89226823 0.90655918\n",
            " 0.91388787 0.93184317 0.92085013 0.88493954 0.8453646  0.80945401\n",
            " 0.78453646 0.80578967 0.87064859 0.74129718 0.6515207  0.59765482\n",
            " 0.57969952 0.54745328 0.52216929 0.51117626 0.54745328 0.55857527\n",
            " 0.56032538 0.55805892 0.55732626 0.55787653]\n",
            "5 day output [[0.5583868]]\n",
            "6 day input [0.80249176 0.80578967 0.82044705 0.82740931 0.78783437 0.82374496\n",
            " 0.86698424 0.89593258 0.90289483 0.90655918 0.91022353 0.91022353\n",
            " 0.90289483 0.90289483 0.89593258 0.89593258 0.90655918 0.89593258\n",
            " 0.89923049 0.90289483 0.90289483 0.89923049 0.91022353 0.90289483\n",
            " 0.90289483 0.91388787 0.90289483 0.89593258 0.91388787 0.91388787\n",
            " 0.93514108 0.94246977 0.94979846 0.96775376 1.         0.99633565\n",
            " 0.99267131 0.97471601 0.97471601 0.93184317 0.92085013 0.93880542\n",
            " 0.97471601 0.98900696 0.98204471 0.99633565 0.95676072 0.92085013\n",
            " 0.88127519 0.85269329 0.87431294 0.84170026 0.8453646  0.86698424\n",
            " 0.88127519 0.88493954 0.87431294 0.89593258 0.87431294 0.88860388\n",
            " 0.85269329 0.83107365 0.88493954 0.84170026 0.81311836 0.82044705\n",
            " 0.834738   0.83107365 0.8453646  0.88493954 0.89593258 0.90655918\n",
            " 0.92085013 0.92085013 0.90655918 0.89226823 0.90655918 0.91388787\n",
            " 0.93184317 0.92085013 0.88493954 0.8453646  0.80945401 0.78453646\n",
            " 0.80578967 0.87064859 0.74129718 0.6515207  0.59765482 0.57969952\n",
            " 0.54745328 0.52216929 0.51117626 0.54745328 0.55857527 0.56032538\n",
            " 0.55805892 0.55732626 0.55787653 0.5583868 ]\n",
            "6 day output [[0.55815214]]\n",
            "7 day input [0.80578967 0.82044705 0.82740931 0.78783437 0.82374496 0.86698424\n",
            " 0.89593258 0.90289483 0.90655918 0.91022353 0.91022353 0.90289483\n",
            " 0.90289483 0.89593258 0.89593258 0.90655918 0.89593258 0.89923049\n",
            " 0.90289483 0.90289483 0.89923049 0.91022353 0.90289483 0.90289483\n",
            " 0.91388787 0.90289483 0.89593258 0.91388787 0.91388787 0.93514108\n",
            " 0.94246977 0.94979846 0.96775376 1.         0.99633565 0.99267131\n",
            " 0.97471601 0.97471601 0.93184317 0.92085013 0.93880542 0.97471601\n",
            " 0.98900696 0.98204471 0.99633565 0.95676072 0.92085013 0.88127519\n",
            " 0.85269329 0.87431294 0.84170026 0.8453646  0.86698424 0.88127519\n",
            " 0.88493954 0.87431294 0.89593258 0.87431294 0.88860388 0.85269329\n",
            " 0.83107365 0.88493954 0.84170026 0.81311836 0.82044705 0.834738\n",
            " 0.83107365 0.8453646  0.88493954 0.89593258 0.90655918 0.92085013\n",
            " 0.92085013 0.90655918 0.89226823 0.90655918 0.91388787 0.93184317\n",
            " 0.92085013 0.88493954 0.8453646  0.80945401 0.78453646 0.80578967\n",
            " 0.87064859 0.74129718 0.6515207  0.59765482 0.57969952 0.54745328\n",
            " 0.52216929 0.51117626 0.54745328 0.55857527 0.56032538 0.55805892\n",
            " 0.55732626 0.55787653 0.5583868  0.55815214]\n",
            "7 day output [[0.5570921]]\n",
            "8 day input [0.82044705 0.82740931 0.78783437 0.82374496 0.86698424 0.89593258\n",
            " 0.90289483 0.90655918 0.91022353 0.91022353 0.90289483 0.90289483\n",
            " 0.89593258 0.89593258 0.90655918 0.89593258 0.89923049 0.90289483\n",
            " 0.90289483 0.89923049 0.91022353 0.90289483 0.90289483 0.91388787\n",
            " 0.90289483 0.89593258 0.91388787 0.91388787 0.93514108 0.94246977\n",
            " 0.94979846 0.96775376 1.         0.99633565 0.99267131 0.97471601\n",
            " 0.97471601 0.93184317 0.92085013 0.93880542 0.97471601 0.98900696\n",
            " 0.98204471 0.99633565 0.95676072 0.92085013 0.88127519 0.85269329\n",
            " 0.87431294 0.84170026 0.8453646  0.86698424 0.88127519 0.88493954\n",
            " 0.87431294 0.89593258 0.87431294 0.88860388 0.85269329 0.83107365\n",
            " 0.88493954 0.84170026 0.81311836 0.82044705 0.834738   0.83107365\n",
            " 0.8453646  0.88493954 0.89593258 0.90655918 0.92085013 0.92085013\n",
            " 0.90655918 0.89226823 0.90655918 0.91388787 0.93184317 0.92085013\n",
            " 0.88493954 0.8453646  0.80945401 0.78453646 0.80578967 0.87064859\n",
            " 0.74129718 0.6515207  0.59765482 0.57969952 0.54745328 0.52216929\n",
            " 0.51117626 0.54745328 0.55857527 0.56032538 0.55805892 0.55732626\n",
            " 0.55787653 0.5583868  0.55815214 0.55709207]\n",
            "8 day output [[0.5553794]]\n",
            "9 day input [0.82740931 0.78783437 0.82374496 0.86698424 0.89593258 0.90289483\n",
            " 0.90655918 0.91022353 0.91022353 0.90289483 0.90289483 0.89593258\n",
            " 0.89593258 0.90655918 0.89593258 0.89923049 0.90289483 0.90289483\n",
            " 0.89923049 0.91022353 0.90289483 0.90289483 0.91388787 0.90289483\n",
            " 0.89593258 0.91388787 0.91388787 0.93514108 0.94246977 0.94979846\n",
            " 0.96775376 1.         0.99633565 0.99267131 0.97471601 0.97471601\n",
            " 0.93184317 0.92085013 0.93880542 0.97471601 0.98900696 0.98204471\n",
            " 0.99633565 0.95676072 0.92085013 0.88127519 0.85269329 0.87431294\n",
            " 0.84170026 0.8453646  0.86698424 0.88127519 0.88493954 0.87431294\n",
            " 0.89593258 0.87431294 0.88860388 0.85269329 0.83107365 0.88493954\n",
            " 0.84170026 0.81311836 0.82044705 0.834738   0.83107365 0.8453646\n",
            " 0.88493954 0.89593258 0.90655918 0.92085013 0.92085013 0.90655918\n",
            " 0.89226823 0.90655918 0.91388787 0.93184317 0.92085013 0.88493954\n",
            " 0.8453646  0.80945401 0.78453646 0.80578967 0.87064859 0.74129718\n",
            " 0.6515207  0.59765482 0.57969952 0.54745328 0.52216929 0.51117626\n",
            " 0.54745328 0.55857527 0.56032538 0.55805892 0.55732626 0.55787653\n",
            " 0.5583868  0.55815214 0.55709207 0.55537939]\n",
            "9 day output [[0.55320746]]\n",
            "10 day input [0.78783437 0.82374496 0.86698424 0.89593258 0.90289483 0.90655918\n",
            " 0.91022353 0.91022353 0.90289483 0.90289483 0.89593258 0.89593258\n",
            " 0.90655918 0.89593258 0.89923049 0.90289483 0.90289483 0.89923049\n",
            " 0.91022353 0.90289483 0.90289483 0.91388787 0.90289483 0.89593258\n",
            " 0.91388787 0.91388787 0.93514108 0.94246977 0.94979846 0.96775376\n",
            " 1.         0.99633565 0.99267131 0.97471601 0.97471601 0.93184317\n",
            " 0.92085013 0.93880542 0.97471601 0.98900696 0.98204471 0.99633565\n",
            " 0.95676072 0.92085013 0.88127519 0.85269329 0.87431294 0.84170026\n",
            " 0.8453646  0.86698424 0.88127519 0.88493954 0.87431294 0.89593258\n",
            " 0.87431294 0.88860388 0.85269329 0.83107365 0.88493954 0.84170026\n",
            " 0.81311836 0.82044705 0.834738   0.83107365 0.8453646  0.88493954\n",
            " 0.89593258 0.90655918 0.92085013 0.92085013 0.90655918 0.89226823\n",
            " 0.90655918 0.91388787 0.93184317 0.92085013 0.88493954 0.8453646\n",
            " 0.80945401 0.78453646 0.80578967 0.87064859 0.74129718 0.6515207\n",
            " 0.59765482 0.57969952 0.54745328 0.52216929 0.51117626 0.54745328\n",
            " 0.55857527 0.56032538 0.55805892 0.55732626 0.55787653 0.5583868\n",
            " 0.55815214 0.55709207 0.55537939 0.55320746]\n",
            "10 day output [[0.55072546]]\n",
            "11 day input [0.82374496 0.86698424 0.89593258 0.90289483 0.90655918 0.91022353\n",
            " 0.91022353 0.90289483 0.90289483 0.89593258 0.89593258 0.90655918\n",
            " 0.89593258 0.89923049 0.90289483 0.90289483 0.89923049 0.91022353\n",
            " 0.90289483 0.90289483 0.91388787 0.90289483 0.89593258 0.91388787\n",
            " 0.91388787 0.93514108 0.94246977 0.94979846 0.96775376 1.\n",
            " 0.99633565 0.99267131 0.97471601 0.97471601 0.93184317 0.92085013\n",
            " 0.93880542 0.97471601 0.98900696 0.98204471 0.99633565 0.95676072\n",
            " 0.92085013 0.88127519 0.85269329 0.87431294 0.84170026 0.8453646\n",
            " 0.86698424 0.88127519 0.88493954 0.87431294 0.89593258 0.87431294\n",
            " 0.88860388 0.85269329 0.83107365 0.88493954 0.84170026 0.81311836\n",
            " 0.82044705 0.834738   0.83107365 0.8453646  0.88493954 0.89593258\n",
            " 0.90655918 0.92085013 0.92085013 0.90655918 0.89226823 0.90655918\n",
            " 0.91388787 0.93184317 0.92085013 0.88493954 0.8453646  0.80945401\n",
            " 0.78453646 0.80578967 0.87064859 0.74129718 0.6515207  0.59765482\n",
            " 0.57969952 0.54745328 0.52216929 0.51117626 0.54745328 0.55857527\n",
            " 0.56032538 0.55805892 0.55732626 0.55787653 0.5583868  0.55815214\n",
            " 0.55709207 0.55537939 0.55320746 0.55072546]\n",
            "11 day output [[0.5480448]]\n",
            "12 day input [0.86698424 0.89593258 0.90289483 0.90655918 0.91022353 0.91022353\n",
            " 0.90289483 0.90289483 0.89593258 0.89593258 0.90655918 0.89593258\n",
            " 0.89923049 0.90289483 0.90289483 0.89923049 0.91022353 0.90289483\n",
            " 0.90289483 0.91388787 0.90289483 0.89593258 0.91388787 0.91388787\n",
            " 0.93514108 0.94246977 0.94979846 0.96775376 1.         0.99633565\n",
            " 0.99267131 0.97471601 0.97471601 0.93184317 0.92085013 0.93880542\n",
            " 0.97471601 0.98900696 0.98204471 0.99633565 0.95676072 0.92085013\n",
            " 0.88127519 0.85269329 0.87431294 0.84170026 0.8453646  0.86698424\n",
            " 0.88127519 0.88493954 0.87431294 0.89593258 0.87431294 0.88860388\n",
            " 0.85269329 0.83107365 0.88493954 0.84170026 0.81311836 0.82044705\n",
            " 0.834738   0.83107365 0.8453646  0.88493954 0.89593258 0.90655918\n",
            " 0.92085013 0.92085013 0.90655918 0.89226823 0.90655918 0.91388787\n",
            " 0.93184317 0.92085013 0.88493954 0.8453646  0.80945401 0.78453646\n",
            " 0.80578967 0.87064859 0.74129718 0.6515207  0.59765482 0.57969952\n",
            " 0.54745328 0.52216929 0.51117626 0.54745328 0.55857527 0.56032538\n",
            " 0.55805892 0.55732626 0.55787653 0.5583868  0.55815214 0.55709207\n",
            " 0.55537939 0.55320746 0.55072546 0.5480448 ]\n",
            "12 day output [[0.5452545]]\n",
            "13 day input [0.89593258 0.90289483 0.90655918 0.91022353 0.91022353 0.90289483\n",
            " 0.90289483 0.89593258 0.89593258 0.90655918 0.89593258 0.89923049\n",
            " 0.90289483 0.90289483 0.89923049 0.91022353 0.90289483 0.90289483\n",
            " 0.91388787 0.90289483 0.89593258 0.91388787 0.91388787 0.93514108\n",
            " 0.94246977 0.94979846 0.96775376 1.         0.99633565 0.99267131\n",
            " 0.97471601 0.97471601 0.93184317 0.92085013 0.93880542 0.97471601\n",
            " 0.98900696 0.98204471 0.99633565 0.95676072 0.92085013 0.88127519\n",
            " 0.85269329 0.87431294 0.84170026 0.8453646  0.86698424 0.88127519\n",
            " 0.88493954 0.87431294 0.89593258 0.87431294 0.88860388 0.85269329\n",
            " 0.83107365 0.88493954 0.84170026 0.81311836 0.82044705 0.834738\n",
            " 0.83107365 0.8453646  0.88493954 0.89593258 0.90655918 0.92085013\n",
            " 0.92085013 0.90655918 0.89226823 0.90655918 0.91388787 0.93184317\n",
            " 0.92085013 0.88493954 0.8453646  0.80945401 0.78453646 0.80578967\n",
            " 0.87064859 0.74129718 0.6515207  0.59765482 0.57969952 0.54745328\n",
            " 0.52216929 0.51117626 0.54745328 0.55857527 0.56032538 0.55805892\n",
            " 0.55732626 0.55787653 0.5583868  0.55815214 0.55709207 0.55537939\n",
            " 0.55320746 0.55072546 0.5480448  0.54525453]\n",
            "13 day output [[0.54242575]]\n",
            "14 day input [0.90289483 0.90655918 0.91022353 0.91022353 0.90289483 0.90289483\n",
            " 0.89593258 0.89593258 0.90655918 0.89593258 0.89923049 0.90289483\n",
            " 0.90289483 0.89923049 0.91022353 0.90289483 0.90289483 0.91388787\n",
            " 0.90289483 0.89593258 0.91388787 0.91388787 0.93514108 0.94246977\n",
            " 0.94979846 0.96775376 1.         0.99633565 0.99267131 0.97471601\n",
            " 0.97471601 0.93184317 0.92085013 0.93880542 0.97471601 0.98900696\n",
            " 0.98204471 0.99633565 0.95676072 0.92085013 0.88127519 0.85269329\n",
            " 0.87431294 0.84170026 0.8453646  0.86698424 0.88127519 0.88493954\n",
            " 0.87431294 0.89593258 0.87431294 0.88860388 0.85269329 0.83107365\n",
            " 0.88493954 0.84170026 0.81311836 0.82044705 0.834738   0.83107365\n",
            " 0.8453646  0.88493954 0.89593258 0.90655918 0.92085013 0.92085013\n",
            " 0.90655918 0.89226823 0.90655918 0.91388787 0.93184317 0.92085013\n",
            " 0.88493954 0.8453646  0.80945401 0.78453646 0.80578967 0.87064859\n",
            " 0.74129718 0.6515207  0.59765482 0.57969952 0.54745328 0.52216929\n",
            " 0.51117626 0.54745328 0.55857527 0.56032538 0.55805892 0.55732626\n",
            " 0.55787653 0.5583868  0.55815214 0.55709207 0.55537939 0.55320746\n",
            " 0.55072546 0.5480448  0.54525453 0.54242575]\n",
            "14 day output [[0.53961325]]\n",
            "15 day input [0.90655918 0.91022353 0.91022353 0.90289483 0.90289483 0.89593258\n",
            " 0.89593258 0.90655918 0.89593258 0.89923049 0.90289483 0.90289483\n",
            " 0.89923049 0.91022353 0.90289483 0.90289483 0.91388787 0.90289483\n",
            " 0.89593258 0.91388787 0.91388787 0.93514108 0.94246977 0.94979846\n",
            " 0.96775376 1.         0.99633565 0.99267131 0.97471601 0.97471601\n",
            " 0.93184317 0.92085013 0.93880542 0.97471601 0.98900696 0.98204471\n",
            " 0.99633565 0.95676072 0.92085013 0.88127519 0.85269329 0.87431294\n",
            " 0.84170026 0.8453646  0.86698424 0.88127519 0.88493954 0.87431294\n",
            " 0.89593258 0.87431294 0.88860388 0.85269329 0.83107365 0.88493954\n",
            " 0.84170026 0.81311836 0.82044705 0.834738   0.83107365 0.8453646\n",
            " 0.88493954 0.89593258 0.90655918 0.92085013 0.92085013 0.90655918\n",
            " 0.89226823 0.90655918 0.91388787 0.93184317 0.92085013 0.88493954\n",
            " 0.8453646  0.80945401 0.78453646 0.80578967 0.87064859 0.74129718\n",
            " 0.6515207  0.59765482 0.57969952 0.54745328 0.52216929 0.51117626\n",
            " 0.54745328 0.55857527 0.56032538 0.55805892 0.55732626 0.55787653\n",
            " 0.5583868  0.55815214 0.55709207 0.55537939 0.55320746 0.55072546\n",
            " 0.5480448  0.54525453 0.54242575 0.53961325]\n",
            "15 day output [[0.5368551]]\n",
            "16 day input [0.91022353 0.91022353 0.90289483 0.90289483 0.89593258 0.89593258\n",
            " 0.90655918 0.89593258 0.89923049 0.90289483 0.90289483 0.89923049\n",
            " 0.91022353 0.90289483 0.90289483 0.91388787 0.90289483 0.89593258\n",
            " 0.91388787 0.91388787 0.93514108 0.94246977 0.94979846 0.96775376\n",
            " 1.         0.99633565 0.99267131 0.97471601 0.97471601 0.93184317\n",
            " 0.92085013 0.93880542 0.97471601 0.98900696 0.98204471 0.99633565\n",
            " 0.95676072 0.92085013 0.88127519 0.85269329 0.87431294 0.84170026\n",
            " 0.8453646  0.86698424 0.88127519 0.88493954 0.87431294 0.89593258\n",
            " 0.87431294 0.88860388 0.85269329 0.83107365 0.88493954 0.84170026\n",
            " 0.81311836 0.82044705 0.834738   0.83107365 0.8453646  0.88493954\n",
            " 0.89593258 0.90655918 0.92085013 0.92085013 0.90655918 0.89226823\n",
            " 0.90655918 0.91388787 0.93184317 0.92085013 0.88493954 0.8453646\n",
            " 0.80945401 0.78453646 0.80578967 0.87064859 0.74129718 0.6515207\n",
            " 0.59765482 0.57969952 0.54745328 0.52216929 0.51117626 0.54745328\n",
            " 0.55857527 0.56032538 0.55805892 0.55732626 0.55787653 0.5583868\n",
            " 0.55815214 0.55709207 0.55537939 0.55320746 0.55072546 0.5480448\n",
            " 0.54525453 0.54242575 0.53961325 0.5368551 ]\n",
            "16 day output [[0.53417504]]\n",
            "17 day input [0.91022353 0.90289483 0.90289483 0.89593258 0.89593258 0.90655918\n",
            " 0.89593258 0.89923049 0.90289483 0.90289483 0.89923049 0.91022353\n",
            " 0.90289483 0.90289483 0.91388787 0.90289483 0.89593258 0.91388787\n",
            " 0.91388787 0.93514108 0.94246977 0.94979846 0.96775376 1.\n",
            " 0.99633565 0.99267131 0.97471601 0.97471601 0.93184317 0.92085013\n",
            " 0.93880542 0.97471601 0.98900696 0.98204471 0.99633565 0.95676072\n",
            " 0.92085013 0.88127519 0.85269329 0.87431294 0.84170026 0.8453646\n",
            " 0.86698424 0.88127519 0.88493954 0.87431294 0.89593258 0.87431294\n",
            " 0.88860388 0.85269329 0.83107365 0.88493954 0.84170026 0.81311836\n",
            " 0.82044705 0.834738   0.83107365 0.8453646  0.88493954 0.89593258\n",
            " 0.90655918 0.92085013 0.92085013 0.90655918 0.89226823 0.90655918\n",
            " 0.91388787 0.93184317 0.92085013 0.88493954 0.8453646  0.80945401\n",
            " 0.78453646 0.80578967 0.87064859 0.74129718 0.6515207  0.59765482\n",
            " 0.57969952 0.54745328 0.52216929 0.51117626 0.54745328 0.55857527\n",
            " 0.56032538 0.55805892 0.55732626 0.55787653 0.5583868  0.55815214\n",
            " 0.55709207 0.55537939 0.55320746 0.55072546 0.5480448  0.54525453\n",
            " 0.54242575 0.53961325 0.5368551  0.53417504]\n",
            "17 day output [[0.53158385]]\n",
            "18 day input [0.90289483 0.90289483 0.89593258 0.89593258 0.90655918 0.89593258\n",
            " 0.89923049 0.90289483 0.90289483 0.89923049 0.91022353 0.90289483\n",
            " 0.90289483 0.91388787 0.90289483 0.89593258 0.91388787 0.91388787\n",
            " 0.93514108 0.94246977 0.94979846 0.96775376 1.         0.99633565\n",
            " 0.99267131 0.97471601 0.97471601 0.93184317 0.92085013 0.93880542\n",
            " 0.97471601 0.98900696 0.98204471 0.99633565 0.95676072 0.92085013\n",
            " 0.88127519 0.85269329 0.87431294 0.84170026 0.8453646  0.86698424\n",
            " 0.88127519 0.88493954 0.87431294 0.89593258 0.87431294 0.88860388\n",
            " 0.85269329 0.83107365 0.88493954 0.84170026 0.81311836 0.82044705\n",
            " 0.834738   0.83107365 0.8453646  0.88493954 0.89593258 0.90655918\n",
            " 0.92085013 0.92085013 0.90655918 0.89226823 0.90655918 0.91388787\n",
            " 0.93184317 0.92085013 0.88493954 0.8453646  0.80945401 0.78453646\n",
            " 0.80578967 0.87064859 0.74129718 0.6515207  0.59765482 0.57969952\n",
            " 0.54745328 0.52216929 0.51117626 0.54745328 0.55857527 0.56032538\n",
            " 0.55805892 0.55732626 0.55787653 0.5583868  0.55815214 0.55709207\n",
            " 0.55537939 0.55320746 0.55072546 0.5480448  0.54525453 0.54242575\n",
            " 0.53961325 0.5368551  0.53417504 0.53158385]\n",
            "18 day output [[0.52908397]]\n",
            "19 day input [0.90289483 0.89593258 0.89593258 0.90655918 0.89593258 0.89923049\n",
            " 0.90289483 0.90289483 0.89923049 0.91022353 0.90289483 0.90289483\n",
            " 0.91388787 0.90289483 0.89593258 0.91388787 0.91388787 0.93514108\n",
            " 0.94246977 0.94979846 0.96775376 1.         0.99633565 0.99267131\n",
            " 0.97471601 0.97471601 0.93184317 0.92085013 0.93880542 0.97471601\n",
            " 0.98900696 0.98204471 0.99633565 0.95676072 0.92085013 0.88127519\n",
            " 0.85269329 0.87431294 0.84170026 0.8453646  0.86698424 0.88127519\n",
            " 0.88493954 0.87431294 0.89593258 0.87431294 0.88860388 0.85269329\n",
            " 0.83107365 0.88493954 0.84170026 0.81311836 0.82044705 0.834738\n",
            " 0.83107365 0.8453646  0.88493954 0.89593258 0.90655918 0.92085013\n",
            " 0.92085013 0.90655918 0.89226823 0.90655918 0.91388787 0.93184317\n",
            " 0.92085013 0.88493954 0.8453646  0.80945401 0.78453646 0.80578967\n",
            " 0.87064859 0.74129718 0.6515207  0.59765482 0.57969952 0.54745328\n",
            " 0.52216929 0.51117626 0.54745328 0.55857527 0.56032538 0.55805892\n",
            " 0.55732626 0.55787653 0.5583868  0.55815214 0.55709207 0.55537939\n",
            " 0.55320746 0.55072546 0.5480448  0.54525453 0.54242575 0.53961325\n",
            " 0.5368551  0.53417504 0.53158385 0.52908397]\n",
            "19 day output [[0.5266715]]\n",
            "20 day input [0.89593258 0.89593258 0.90655918 0.89593258 0.89923049 0.90289483\n",
            " 0.90289483 0.89923049 0.91022353 0.90289483 0.90289483 0.91388787\n",
            " 0.90289483 0.89593258 0.91388787 0.91388787 0.93514108 0.94246977\n",
            " 0.94979846 0.96775376 1.         0.99633565 0.99267131 0.97471601\n",
            " 0.97471601 0.93184317 0.92085013 0.93880542 0.97471601 0.98900696\n",
            " 0.98204471 0.99633565 0.95676072 0.92085013 0.88127519 0.85269329\n",
            " 0.87431294 0.84170026 0.8453646  0.86698424 0.88127519 0.88493954\n",
            " 0.87431294 0.89593258 0.87431294 0.88860388 0.85269329 0.83107365\n",
            " 0.88493954 0.84170026 0.81311836 0.82044705 0.834738   0.83107365\n",
            " 0.8453646  0.88493954 0.89593258 0.90655918 0.92085013 0.92085013\n",
            " 0.90655918 0.89226823 0.90655918 0.91388787 0.93184317 0.92085013\n",
            " 0.88493954 0.8453646  0.80945401 0.78453646 0.80578967 0.87064859\n",
            " 0.74129718 0.6515207  0.59765482 0.57969952 0.54745328 0.52216929\n",
            " 0.51117626 0.54745328 0.55857527 0.56032538 0.55805892 0.55732626\n",
            " 0.55787653 0.5583868  0.55815214 0.55709207 0.55537939 0.55320746\n",
            " 0.55072546 0.5480448  0.54525453 0.54242575 0.53961325 0.5368551\n",
            " 0.53417504 0.53158385 0.52908397 0.52667153]\n",
            "20 day output [[0.52433884]]\n",
            "21 day input [0.89593258 0.90655918 0.89593258 0.89923049 0.90289483 0.90289483\n",
            " 0.89923049 0.91022353 0.90289483 0.90289483 0.91388787 0.90289483\n",
            " 0.89593258 0.91388787 0.91388787 0.93514108 0.94246977 0.94979846\n",
            " 0.96775376 1.         0.99633565 0.99267131 0.97471601 0.97471601\n",
            " 0.93184317 0.92085013 0.93880542 0.97471601 0.98900696 0.98204471\n",
            " 0.99633565 0.95676072 0.92085013 0.88127519 0.85269329 0.87431294\n",
            " 0.84170026 0.8453646  0.86698424 0.88127519 0.88493954 0.87431294\n",
            " 0.89593258 0.87431294 0.88860388 0.85269329 0.83107365 0.88493954\n",
            " 0.84170026 0.81311836 0.82044705 0.834738   0.83107365 0.8453646\n",
            " 0.88493954 0.89593258 0.90655918 0.92085013 0.92085013 0.90655918\n",
            " 0.89226823 0.90655918 0.91388787 0.93184317 0.92085013 0.88493954\n",
            " 0.8453646  0.80945401 0.78453646 0.80578967 0.87064859 0.74129718\n",
            " 0.6515207  0.59765482 0.57969952 0.54745328 0.52216929 0.51117626\n",
            " 0.54745328 0.55857527 0.56032538 0.55805892 0.55732626 0.55787653\n",
            " 0.5583868  0.55815214 0.55709207 0.55537939 0.55320746 0.55072546\n",
            " 0.5480448  0.54525453 0.54242575 0.53961325 0.5368551  0.53417504\n",
            " 0.53158385 0.52908397 0.52667153 0.52433884]\n",
            "21 day output [[0.5220761]]\n",
            "22 day input [0.90655918 0.89593258 0.89923049 0.90289483 0.90289483 0.89923049\n",
            " 0.91022353 0.90289483 0.90289483 0.91388787 0.90289483 0.89593258\n",
            " 0.91388787 0.91388787 0.93514108 0.94246977 0.94979846 0.96775376\n",
            " 1.         0.99633565 0.99267131 0.97471601 0.97471601 0.93184317\n",
            " 0.92085013 0.93880542 0.97471601 0.98900696 0.98204471 0.99633565\n",
            " 0.95676072 0.92085013 0.88127519 0.85269329 0.87431294 0.84170026\n",
            " 0.8453646  0.86698424 0.88127519 0.88493954 0.87431294 0.89593258\n",
            " 0.87431294 0.88860388 0.85269329 0.83107365 0.88493954 0.84170026\n",
            " 0.81311836 0.82044705 0.834738   0.83107365 0.8453646  0.88493954\n",
            " 0.89593258 0.90655918 0.92085013 0.92085013 0.90655918 0.89226823\n",
            " 0.90655918 0.91388787 0.93184317 0.92085013 0.88493954 0.8453646\n",
            " 0.80945401 0.78453646 0.80578967 0.87064859 0.74129718 0.6515207\n",
            " 0.59765482 0.57969952 0.54745328 0.52216929 0.51117626 0.54745328\n",
            " 0.55857527 0.56032538 0.55805892 0.55732626 0.55787653 0.5583868\n",
            " 0.55815214 0.55709207 0.55537939 0.55320746 0.55072546 0.5480448\n",
            " 0.54525453 0.54242575 0.53961325 0.5368551  0.53417504 0.53158385\n",
            " 0.52908397 0.52667153 0.52433884 0.52207607]\n",
            "22 day output [[0.5198737]]\n",
            "23 day input [0.89593258 0.89923049 0.90289483 0.90289483 0.89923049 0.91022353\n",
            " 0.90289483 0.90289483 0.91388787 0.90289483 0.89593258 0.91388787\n",
            " 0.91388787 0.93514108 0.94246977 0.94979846 0.96775376 1.\n",
            " 0.99633565 0.99267131 0.97471601 0.97471601 0.93184317 0.92085013\n",
            " 0.93880542 0.97471601 0.98900696 0.98204471 0.99633565 0.95676072\n",
            " 0.92085013 0.88127519 0.85269329 0.87431294 0.84170026 0.8453646\n",
            " 0.86698424 0.88127519 0.88493954 0.87431294 0.89593258 0.87431294\n",
            " 0.88860388 0.85269329 0.83107365 0.88493954 0.84170026 0.81311836\n",
            " 0.82044705 0.834738   0.83107365 0.8453646  0.88493954 0.89593258\n",
            " 0.90655918 0.92085013 0.92085013 0.90655918 0.89226823 0.90655918\n",
            " 0.91388787 0.93184317 0.92085013 0.88493954 0.8453646  0.80945401\n",
            " 0.78453646 0.80578967 0.87064859 0.74129718 0.6515207  0.59765482\n",
            " 0.57969952 0.54745328 0.52216929 0.51117626 0.54745328 0.55857527\n",
            " 0.56032538 0.55805892 0.55732626 0.55787653 0.5583868  0.55815214\n",
            " 0.55709207 0.55537939 0.55320746 0.55072546 0.5480448  0.54525453\n",
            " 0.54242575 0.53961325 0.5368551  0.53417504 0.53158385 0.52908397\n",
            " 0.52667153 0.52433884 0.52207607 0.51987368]\n",
            "23 day output [[0.5177221]]\n",
            "24 day input [0.89923049 0.90289483 0.90289483 0.89923049 0.91022353 0.90289483\n",
            " 0.90289483 0.91388787 0.90289483 0.89593258 0.91388787 0.91388787\n",
            " 0.93514108 0.94246977 0.94979846 0.96775376 1.         0.99633565\n",
            " 0.99267131 0.97471601 0.97471601 0.93184317 0.92085013 0.93880542\n",
            " 0.97471601 0.98900696 0.98204471 0.99633565 0.95676072 0.92085013\n",
            " 0.88127519 0.85269329 0.87431294 0.84170026 0.8453646  0.86698424\n",
            " 0.88127519 0.88493954 0.87431294 0.89593258 0.87431294 0.88860388\n",
            " 0.85269329 0.83107365 0.88493954 0.84170026 0.81311836 0.82044705\n",
            " 0.834738   0.83107365 0.8453646  0.88493954 0.89593258 0.90655918\n",
            " 0.92085013 0.92085013 0.90655918 0.89226823 0.90655918 0.91388787\n",
            " 0.93184317 0.92085013 0.88493954 0.8453646  0.80945401 0.78453646\n",
            " 0.80578967 0.87064859 0.74129718 0.6515207  0.59765482 0.57969952\n",
            " 0.54745328 0.52216929 0.51117626 0.54745328 0.55857527 0.56032538\n",
            " 0.55805892 0.55732626 0.55787653 0.5583868  0.55815214 0.55709207\n",
            " 0.55537939 0.55320746 0.55072546 0.5480448  0.54525453 0.54242575\n",
            " 0.53961325 0.5368551  0.53417504 0.53158385 0.52908397 0.52667153\n",
            " 0.52433884 0.52207607 0.51987368 0.51772207]\n",
            "24 day output [[0.5156127]]\n",
            "25 day input [0.90289483 0.90289483 0.89923049 0.91022353 0.90289483 0.90289483\n",
            " 0.91388787 0.90289483 0.89593258 0.91388787 0.91388787 0.93514108\n",
            " 0.94246977 0.94979846 0.96775376 1.         0.99633565 0.99267131\n",
            " 0.97471601 0.97471601 0.93184317 0.92085013 0.93880542 0.97471601\n",
            " 0.98900696 0.98204471 0.99633565 0.95676072 0.92085013 0.88127519\n",
            " 0.85269329 0.87431294 0.84170026 0.8453646  0.86698424 0.88127519\n",
            " 0.88493954 0.87431294 0.89593258 0.87431294 0.88860388 0.85269329\n",
            " 0.83107365 0.88493954 0.84170026 0.81311836 0.82044705 0.834738\n",
            " 0.83107365 0.8453646  0.88493954 0.89593258 0.90655918 0.92085013\n",
            " 0.92085013 0.90655918 0.89226823 0.90655918 0.91388787 0.93184317\n",
            " 0.92085013 0.88493954 0.8453646  0.80945401 0.78453646 0.80578967\n",
            " 0.87064859 0.74129718 0.6515207  0.59765482 0.57969952 0.54745328\n",
            " 0.52216929 0.51117626 0.54745328 0.55857527 0.56032538 0.55805892\n",
            " 0.55732626 0.55787653 0.5583868  0.55815214 0.55709207 0.55537939\n",
            " 0.55320746 0.55072546 0.5480448  0.54525453 0.54242575 0.53961325\n",
            " 0.5368551  0.53417504 0.53158385 0.52908397 0.52667153 0.52433884\n",
            " 0.52207607 0.51987368 0.51772207 0.51561272]\n",
            "25 day output [[0.51353854]]\n",
            "26 day input [0.90289483 0.89923049 0.91022353 0.90289483 0.90289483 0.91388787\n",
            " 0.90289483 0.89593258 0.91388787 0.91388787 0.93514108 0.94246977\n",
            " 0.94979846 0.96775376 1.         0.99633565 0.99267131 0.97471601\n",
            " 0.97471601 0.93184317 0.92085013 0.93880542 0.97471601 0.98900696\n",
            " 0.98204471 0.99633565 0.95676072 0.92085013 0.88127519 0.85269329\n",
            " 0.87431294 0.84170026 0.8453646  0.86698424 0.88127519 0.88493954\n",
            " 0.87431294 0.89593258 0.87431294 0.88860388 0.85269329 0.83107365\n",
            " 0.88493954 0.84170026 0.81311836 0.82044705 0.834738   0.83107365\n",
            " 0.8453646  0.88493954 0.89593258 0.90655918 0.92085013 0.92085013\n",
            " 0.90655918 0.89226823 0.90655918 0.91388787 0.93184317 0.92085013\n",
            " 0.88493954 0.8453646  0.80945401 0.78453646 0.80578967 0.87064859\n",
            " 0.74129718 0.6515207  0.59765482 0.57969952 0.54745328 0.52216929\n",
            " 0.51117626 0.54745328 0.55857527 0.56032538 0.55805892 0.55732626\n",
            " 0.55787653 0.5583868  0.55815214 0.55709207 0.55537939 0.55320746\n",
            " 0.55072546 0.5480448  0.54525453 0.54242575 0.53961325 0.5368551\n",
            " 0.53417504 0.53158385 0.52908397 0.52667153 0.52433884 0.52207607\n",
            " 0.51987368 0.51772207 0.51561272 0.51353854]\n",
            "26 day output [[0.511494]]\n",
            "27 day input [0.89923049 0.91022353 0.90289483 0.90289483 0.91388787 0.90289483\n",
            " 0.89593258 0.91388787 0.91388787 0.93514108 0.94246977 0.94979846\n",
            " 0.96775376 1.         0.99633565 0.99267131 0.97471601 0.97471601\n",
            " 0.93184317 0.92085013 0.93880542 0.97471601 0.98900696 0.98204471\n",
            " 0.99633565 0.95676072 0.92085013 0.88127519 0.85269329 0.87431294\n",
            " 0.84170026 0.8453646  0.86698424 0.88127519 0.88493954 0.87431294\n",
            " 0.89593258 0.87431294 0.88860388 0.85269329 0.83107365 0.88493954\n",
            " 0.84170026 0.81311836 0.82044705 0.834738   0.83107365 0.8453646\n",
            " 0.88493954 0.89593258 0.90655918 0.92085013 0.92085013 0.90655918\n",
            " 0.89226823 0.90655918 0.91388787 0.93184317 0.92085013 0.88493954\n",
            " 0.8453646  0.80945401 0.78453646 0.80578967 0.87064859 0.74129718\n",
            " 0.6515207  0.59765482 0.57969952 0.54745328 0.52216929 0.51117626\n",
            " 0.54745328 0.55857527 0.56032538 0.55805892 0.55732626 0.55787653\n",
            " 0.5583868  0.55815214 0.55709207 0.55537939 0.55320746 0.55072546\n",
            " 0.5480448  0.54525453 0.54242575 0.53961325 0.5368551  0.53417504\n",
            " 0.53158385 0.52908397 0.52667153 0.52433884 0.52207607 0.51987368\n",
            " 0.51772207 0.51561272 0.51353854 0.51149398]\n",
            "27 day output [[0.509475]]\n",
            "28 day input [0.91022353 0.90289483 0.90289483 0.91388787 0.90289483 0.89593258\n",
            " 0.91388787 0.91388787 0.93514108 0.94246977 0.94979846 0.96775376\n",
            " 1.         0.99633565 0.99267131 0.97471601 0.97471601 0.93184317\n",
            " 0.92085013 0.93880542 0.97471601 0.98900696 0.98204471 0.99633565\n",
            " 0.95676072 0.92085013 0.88127519 0.85269329 0.87431294 0.84170026\n",
            " 0.8453646  0.86698424 0.88127519 0.88493954 0.87431294 0.89593258\n",
            " 0.87431294 0.88860388 0.85269329 0.83107365 0.88493954 0.84170026\n",
            " 0.81311836 0.82044705 0.834738   0.83107365 0.8453646  0.88493954\n",
            " 0.89593258 0.90655918 0.92085013 0.92085013 0.90655918 0.89226823\n",
            " 0.90655918 0.91388787 0.93184317 0.92085013 0.88493954 0.8453646\n",
            " 0.80945401 0.78453646 0.80578967 0.87064859 0.74129718 0.6515207\n",
            " 0.59765482 0.57969952 0.54745328 0.52216929 0.51117626 0.54745328\n",
            " 0.55857527 0.56032538 0.55805892 0.55732626 0.55787653 0.5583868\n",
            " 0.55815214 0.55709207 0.55537939 0.55320746 0.55072546 0.5480448\n",
            " 0.54525453 0.54242575 0.53961325 0.5368551  0.53417504 0.53158385\n",
            " 0.52908397 0.52667153 0.52433884 0.52207607 0.51987368 0.51772207\n",
            " 0.51561272 0.51353854 0.51149398 0.50947499]\n",
            "28 day output [[0.50747865]]\n",
            "29 day input [0.90289483 0.90289483 0.91388787 0.90289483 0.89593258 0.91388787\n",
            " 0.91388787 0.93514108 0.94246977 0.94979846 0.96775376 1.\n",
            " 0.99633565 0.99267131 0.97471601 0.97471601 0.93184317 0.92085013\n",
            " 0.93880542 0.97471601 0.98900696 0.98204471 0.99633565 0.95676072\n",
            " 0.92085013 0.88127519 0.85269329 0.87431294 0.84170026 0.8453646\n",
            " 0.86698424 0.88127519 0.88493954 0.87431294 0.89593258 0.87431294\n",
            " 0.88860388 0.85269329 0.83107365 0.88493954 0.84170026 0.81311836\n",
            " 0.82044705 0.834738   0.83107365 0.8453646  0.88493954 0.89593258\n",
            " 0.90655918 0.92085013 0.92085013 0.90655918 0.89226823 0.90655918\n",
            " 0.91388787 0.93184317 0.92085013 0.88493954 0.8453646  0.80945401\n",
            " 0.78453646 0.80578967 0.87064859 0.74129718 0.6515207  0.59765482\n",
            " 0.57969952 0.54745328 0.52216929 0.51117626 0.54745328 0.55857527\n",
            " 0.56032538 0.55805892 0.55732626 0.55787653 0.5583868  0.55815214\n",
            " 0.55709207 0.55537939 0.55320746 0.55072546 0.5480448  0.54525453\n",
            " 0.54242575 0.53961325 0.5368551  0.53417504 0.53158385 0.52908397\n",
            " 0.52667153 0.52433884 0.52207607 0.51987368 0.51772207 0.51561272\n",
            " 0.51353854 0.51149398 0.50947499 0.50747865]\n",
            "29 day output [[0.5055032]]\n",
            "[[0.5585752725601196], [0.5603253841400146], [0.5580589175224304], [0.5573262572288513], [0.5578765273094177], [0.5583868026733398], [0.5581521391868591], [0.5570920705795288], [0.5553793907165527], [0.5532074570655823], [0.5507254600524902], [0.5480448007583618], [0.5452545285224915], [0.5424257516860962], [0.5396132469177246], [0.5368551015853882], [0.5341750383377075], [0.531583845615387], [0.5290839672088623], [0.5266715288162231], [0.5243388414382935], [0.5220760703086853], [0.5198736786842346], [0.5177220702171326], [0.5156127214431763], [0.5135385394096375], [0.511493980884552], [0.5094749927520752], [0.507478654384613], [0.5055031776428223]]\n"
          ]
        }
      ]
    },
    {
      "cell_type": "code",
      "source": [
        "day_new=np.arange(1,101)\n",
        "day_pred=np.arange(101,131)"
      ],
      "metadata": {
        "id": "1D8f4eYbPuRB"
      },
      "execution_count": 52,
      "outputs": []
    },
    {
      "cell_type": "code",
      "source": [
        "import matplotlib.pyplot as plt"
      ],
      "metadata": {
        "id": "6CIY9NEzQ-pR"
      },
      "execution_count": 53,
      "outputs": []
    },
    {
      "cell_type": "code",
      "source": [
        "len(df1)"
      ],
      "metadata": {
        "colab": {
          "base_uri": "https://localhost:8080/"
        },
        "id": "joiSfJx3RBow",
        "outputId": "4e89fe6e-5949-4808-bdb1-5e04dbab38db"
      },
      "execution_count": 54,
      "outputs": [
        {
          "output_type": "execute_result",
          "data": {
            "text/plain": [
              "9202"
            ]
          },
          "metadata": {},
          "execution_count": 54
        }
      ]
    },
    {
      "cell_type": "code",
      "source": [
        "plt.plot(day_new,scaler.inverse_transform(df1[9102:]))\n",
        "plt.plot(day_pred,scaler.inverse_transform(lst_output))"
      ],
      "metadata": {
        "colab": {
          "base_uri": "https://localhost:8080/",
          "height": 447
        },
        "id": "low22b8oRFUa",
        "outputId": "2b7334e6-7c8d-4868-ce4d-258a780bca2b"
      },
      "execution_count": 55,
      "outputs": [
        {
          "output_type": "execute_result",
          "data": {
            "text/plain": [
              "[<matplotlib.lines.Line2D at 0x7f4a3a4516c0>]"
            ]
          },
          "metadata": {},
          "execution_count": 55
        },
        {
          "output_type": "display_data",
          "data": {
            "text/plain": [
              "<Figure size 640x480 with 1 Axes>"
            ],
            "image/png": "[encoded data removed]"
          },
          "metadata": {}
        }
      ]
    },
    {
      "cell_type": "code",
      "source": [
        "df3=df1.tolist()\n",
        "df3.extend(lst_output)\n",
        "plt.plot(df3[9000:])"
      ],
      "metadata": {
        "colab": {
          "base_uri": "https://localhost:8080/",
          "height": 447
        },
        "id": "T6ISjo6HRWtf",
        "outputId": "1c190ce6-be58-406a-86bf-8b77faeb5b63"
      },
      "execution_count": 56,
      "outputs": [
        {
          "output_type": "execute_result",
          "data": {
            "text/plain": [
              "[<matplotlib.lines.Line2D at 0x7f4a3a25cf10>]"
            ]
          },
          "metadata": {},
          "execution_count": 56
        },
        {
          "output_type": "display_data",
          "data": {
            "text/plain": [
              "<Figure size 640x480 with 1 Axes>"
            ],
            "image/png": "[encoded data removed]"
          },
          "metadata": {}
        }
      ]
    },
    {
      "cell_type": "code",
      "source": [
        "df3=scaler.inverse_transform(df3).tolist()"
      ],
      "metadata": {
        "id": "xwzvl4cTRrWH"
      },
      "execution_count": 57,
      "outputs": []
    },
    {
      "cell_type": "code",
      "source": [
        "plt.plot(df3)"
      ],
      "metadata": {
        "colab": {
          "base_uri": "https://localhost:8080/",
          "height": 447
        },
        "id": "oFutmDsrRvcn",
        "outputId": "96a30e5f-1a20-4021-ac4f-3bc99e3f2eb2"
      },
      "execution_count": 58,
      "outputs": [
        {
          "output_type": "execute_result",
          "data": {
            "text/plain": [
              "[<matplotlib.lines.Line2D at 0x7f4a3a217790>]"
            ]
          },
          "metadata": {},
          "execution_count": 58
        },
        {
          "output_type": "display_data",
          "data": {
            "text/plain": [
              "<Figure size 640x480 with 1 Axes>"
            ],
            "image/png": "[encoded data removed]"
          },
          "metadata": {}
        }
      ]
    }
  ],
  "metadata": {
    "colab": {
      "provenance": []
    },
    "kernelspec": {
      "display_name": "Python 3",
      "name": "python3"
    }
  },
  "nbformat": 4,
  "nbformat_minor": 0
}